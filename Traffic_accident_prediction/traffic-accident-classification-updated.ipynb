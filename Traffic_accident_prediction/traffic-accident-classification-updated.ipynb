{
  "metadata": {
    "kernelspec": {
      "language": "python",
      "display_name": "Python 3",
      "name": "python3"
    },
    "language_info": {
      "name": "python",
      "version": "3.7.12",
      "mimetype": "text/x-python",
      "codemirror_mode": {
        "name": "ipython",
        "version": 3
      },
      "pygments_lexer": "ipython3",
      "nbconvert_exporter": "python",
      "file_extension": ".py"
    },
    "colab": {
      "name": "traffic-accident-classification-updated.ipynb",
      "provenance": [],
      "include_colab_link": true
    },
    "widgets": {
      "application/vnd.jupyter.widget-state+json": {
        "3ff8a825e36a43fbb06cc6af403fcca0": {
          "model_module": "@jupyter-widgets/controls",
          "model_name": "VBoxModel",
          "model_module_version": "1.5.0",
          "state": {
            "_dom_classes": [],
            "_model_module": "@jupyter-widgets/controls",
            "_model_module_version": "1.5.0",
            "_model_name": "VBoxModel",
            "_view_count": null,
            "_view_module": "@jupyter-widgets/controls",
            "_view_module_version": "1.5.0",
            "_view_name": "VBoxView",
            "box_style": "",
            "children": [
              "IPY_MODEL_b3fb90edaf6846009e7086a4b05db6ed",
              "IPY_MODEL_2017e78927de4d55871f52c8e9112d19"
            ],
            "layout": "IPY_MODEL_07bedfb321dd4a13ac8fceb3aedbdbe8"
          }
        },
        "b3fb90edaf6846009e7086a4b05db6ed": {
          "model_module": "@jupyter-widgets/controls",
          "model_name": "LabelModel",
          "model_module_version": "1.5.0",
          "state": {
            "_dom_classes": [],
            "_model_module": "@jupyter-widgets/controls",
            "_model_module_version": "1.5.0",
            "_model_name": "LabelModel",
            "_view_count": null,
            "_view_module": "@jupyter-widgets/controls",
            "_view_module_version": "1.5.0",
            "_view_name": "LabelView",
            "description": "",
            "description_tooltip": null,
            "layout": "IPY_MODEL_ed4a89b2e0954ff49f93c26aa16f02b0",
            "placeholder": "​",
            "style": "IPY_MODEL_f86cd696fe934fef9c36b886a7973484",
            "value": "0.049 MB of 0.049 MB uploaded (0.000 MB deduped)\r"
          }
        },
        "2017e78927de4d55871f52c8e9112d19": {
          "model_module": "@jupyter-widgets/controls",
          "model_name": "FloatProgressModel",
          "model_module_version": "1.5.0",
          "state": {
            "_dom_classes": [],
            "_model_module": "@jupyter-widgets/controls",
            "_model_module_version": "1.5.0",
            "_model_name": "FloatProgressModel",
            "_view_count": null,
            "_view_module": "@jupyter-widgets/controls",
            "_view_module_version": "1.5.0",
            "_view_name": "ProgressView",
            "bar_style": "",
            "description": "",
            "description_tooltip": null,
            "layout": "IPY_MODEL_7449dde5e40d4149872736e933d69146",
            "max": 1,
            "min": 0,
            "orientation": "horizontal",
            "style": "IPY_MODEL_4de25377cc1a4985b9ed8837d1735ba3",
            "value": 1
          }
        },
        "07bedfb321dd4a13ac8fceb3aedbdbe8": {
          "model_module": "@jupyter-widgets/base",
          "model_name": "LayoutModel",
          "model_module_version": "1.2.0",
          "state": {
            "_model_module": "@jupyter-widgets/base",
            "_model_module_version": "1.2.0",
            "_model_name": "LayoutModel",
            "_view_count": null,
            "_view_module": "@jupyter-widgets/base",
            "_view_module_version": "1.2.0",
            "_view_name": "LayoutView",
            "align_content": null,
            "align_items": null,
            "align_self": null,
            "border": null,
            "bottom": null,
            "display": null,
            "flex": null,
            "flex_flow": null,
            "grid_area": null,
            "grid_auto_columns": null,
            "grid_auto_flow": null,
            "grid_auto_rows": null,
            "grid_column": null,
            "grid_gap": null,
            "grid_row": null,
            "grid_template_areas": null,
            "grid_template_columns": null,
            "grid_template_rows": null,
            "height": null,
            "justify_content": null,
            "justify_items": null,
            "left": null,
            "margin": null,
            "max_height": null,
            "max_width": null,
            "min_height": null,
            "min_width": null,
            "object_fit": null,
            "object_position": null,
            "order": null,
            "overflow": null,
            "overflow_x": null,
            "overflow_y": null,
            "padding": null,
            "right": null,
            "top": null,
            "visibility": null,
            "width": null
          }
        },
        "ed4a89b2e0954ff49f93c26aa16f02b0": {
          "model_module": "@jupyter-widgets/base",
          "model_name": "LayoutModel",
          "model_module_version": "1.2.0",
          "state": {
            "_model_module": "@jupyter-widgets/base",
            "_model_module_version": "1.2.0",
            "_model_name": "LayoutModel",
            "_view_count": null,
            "_view_module": "@jupyter-widgets/base",
            "_view_module_version": "1.2.0",
            "_view_name": "LayoutView",
            "align_content": null,
            "align_items": null,
            "align_self": null,
            "border": null,
            "bottom": null,
            "display": null,
            "flex": null,
            "flex_flow": null,
            "grid_area": null,
            "grid_auto_columns": null,
            "grid_auto_flow": null,
            "grid_auto_rows": null,
            "grid_column": null,
            "grid_gap": null,
            "grid_row": null,
            "grid_template_areas": null,
            "grid_template_columns": null,
            "grid_template_rows": null,
            "height": null,
            "justify_content": null,
            "justify_items": null,
            "left": null,
            "margin": null,
            "max_height": null,
            "max_width": null,
            "min_height": null,
            "min_width": null,
            "object_fit": null,
            "object_position": null,
            "order": null,
            "overflow": null,
            "overflow_x": null,
            "overflow_y": null,
            "padding": null,
            "right": null,
            "top": null,
            "visibility": null,
            "width": null
          }
        },
        "f86cd696fe934fef9c36b886a7973484": {
          "model_module": "@jupyter-widgets/controls",
          "model_name": "DescriptionStyleModel",
          "model_module_version": "1.5.0",
          "state": {
            "_model_module": "@jupyter-widgets/controls",
            "_model_module_version": "1.5.0",
            "_model_name": "DescriptionStyleModel",
            "_view_count": null,
            "_view_module": "@jupyter-widgets/base",
            "_view_module_version": "1.2.0",
            "_view_name": "StyleView",
            "description_width": ""
          }
        },
        "7449dde5e40d4149872736e933d69146": {
          "model_module": "@jupyter-widgets/base",
          "model_name": "LayoutModel",
          "model_module_version": "1.2.0",
          "state": {
            "_model_module": "@jupyter-widgets/base",
            "_model_module_version": "1.2.0",
            "_model_name": "LayoutModel",
            "_view_count": null,
            "_view_module": "@jupyter-widgets/base",
            "_view_module_version": "1.2.0",
            "_view_name": "LayoutView",
            "align_content": null,
            "align_items": null,
            "align_self": null,
            "border": null,
            "bottom": null,
            "display": null,
            "flex": null,
            "flex_flow": null,
            "grid_area": null,
            "grid_auto_columns": null,
            "grid_auto_flow": null,
            "grid_auto_rows": null,
            "grid_column": null,
            "grid_gap": null,
            "grid_row": null,
            "grid_template_areas": null,
            "grid_template_columns": null,
            "grid_template_rows": null,
            "height": null,
            "justify_content": null,
            "justify_items": null,
            "left": null,
            "margin": null,
            "max_height": null,
            "max_width": null,
            "min_height": null,
            "min_width": null,
            "object_fit": null,
            "object_position": null,
            "order": null,
            "overflow": null,
            "overflow_x": null,
            "overflow_y": null,
            "padding": null,
            "right": null,
            "top": null,
            "visibility": null,
            "width": null
          }
        },
        "4de25377cc1a4985b9ed8837d1735ba3": {
          "model_module": "@jupyter-widgets/controls",
          "model_name": "ProgressStyleModel",
          "model_module_version": "1.5.0",
          "state": {
            "_model_module": "@jupyter-widgets/controls",
            "_model_module_version": "1.5.0",
            "_model_name": "ProgressStyleModel",
            "_view_count": null,
            "_view_module": "@jupyter-widgets/base",
            "_view_module_version": "1.2.0",
            "_view_name": "StyleView",
            "bar_color": null,
            "description_width": ""
          }
        },
        "9fe36798997847848d87cc42438d8d23": {
          "model_module": "@jupyter-widgets/controls",
          "model_name": "VBoxModel",
          "model_module_version": "1.5.0",
          "state": {
            "_dom_classes": [],
            "_model_module": "@jupyter-widgets/controls",
            "_model_module_version": "1.5.0",
            "_model_name": "VBoxModel",
            "_view_count": null,
            "_view_module": "@jupyter-widgets/controls",
            "_view_module_version": "1.5.0",
            "_view_name": "VBoxView",
            "box_style": "",
            "children": [
              "IPY_MODEL_936ce90509ec40639ecf2099a77d1ea8",
              "IPY_MODEL_896d2487c35d45bba707359bf09e34bb"
            ],
            "layout": "IPY_MODEL_a1a7b78a0ab74cceb60a323f55171047"
          }
        },
        "936ce90509ec40639ecf2099a77d1ea8": {
          "model_module": "@jupyter-widgets/controls",
          "model_name": "LabelModel",
          "model_module_version": "1.5.0",
          "state": {
            "_dom_classes": [],
            "_model_module": "@jupyter-widgets/controls",
            "_model_module_version": "1.5.0",
            "_model_name": "LabelModel",
            "_view_count": null,
            "_view_module": "@jupyter-widgets/controls",
            "_view_module_version": "1.5.0",
            "_view_name": "LabelView",
            "description": "",
            "description_tooltip": null,
            "layout": "IPY_MODEL_75b71d462da84dfbb96b6c7bd83720f5",
            "placeholder": "​",
            "style": "IPY_MODEL_4d73384850474be7a29dfb0618f3706d",
            "value": "0.026 MB of 0.026 MB uploaded (0.000 MB deduped)\r"
          }
        },
        "896d2487c35d45bba707359bf09e34bb": {
          "model_module": "@jupyter-widgets/controls",
          "model_name": "FloatProgressModel",
          "model_module_version": "1.5.0",
          "state": {
            "_dom_classes": [],
            "_model_module": "@jupyter-widgets/controls",
            "_model_module_version": "1.5.0",
            "_model_name": "FloatProgressModel",
            "_view_count": null,
            "_view_module": "@jupyter-widgets/controls",
            "_view_module_version": "1.5.0",
            "_view_name": "ProgressView",
            "bar_style": "",
            "description": "",
            "description_tooltip": null,
            "layout": "IPY_MODEL_96a97e48722842a28bc2ea56a442477d",
            "max": 1,
            "min": 0,
            "orientation": "horizontal",
            "style": "IPY_MODEL_7d19e5eab42d4494b1019a1701a440fa",
            "value": 1
          }
        },
        "a1a7b78a0ab74cceb60a323f55171047": {
          "model_module": "@jupyter-widgets/base",
          "model_name": "LayoutModel",
          "model_module_version": "1.2.0",
          "state": {
            "_model_module": "@jupyter-widgets/base",
            "_model_module_version": "1.2.0",
            "_model_name": "LayoutModel",
            "_view_count": null,
            "_view_module": "@jupyter-widgets/base",
            "_view_module_version": "1.2.0",
            "_view_name": "LayoutView",
            "align_content": null,
            "align_items": null,
            "align_self": null,
            "border": null,
            "bottom": null,
            "display": null,
            "flex": null,
            "flex_flow": null,
            "grid_area": null,
            "grid_auto_columns": null,
            "grid_auto_flow": null,
            "grid_auto_rows": null,
            "grid_column": null,
            "grid_gap": null,
            "grid_row": null,
            "grid_template_areas": null,
            "grid_template_columns": null,
            "grid_template_rows": null,
            "height": null,
            "justify_content": null,
            "justify_items": null,
            "left": null,
            "margin": null,
            "max_height": null,
            "max_width": null,
            "min_height": null,
            "min_width": null,
            "object_fit": null,
            "object_position": null,
            "order": null,
            "overflow": null,
            "overflow_x": null,
            "overflow_y": null,
            "padding": null,
            "right": null,
            "top": null,
            "visibility": null,
            "width": null
          }
        },
        "75b71d462da84dfbb96b6c7bd83720f5": {
          "model_module": "@jupyter-widgets/base",
          "model_name": "LayoutModel",
          "model_module_version": "1.2.0",
          "state": {
            "_model_module": "@jupyter-widgets/base",
            "_model_module_version": "1.2.0",
            "_model_name": "LayoutModel",
            "_view_count": null,
            "_view_module": "@jupyter-widgets/base",
            "_view_module_version": "1.2.0",
            "_view_name": "LayoutView",
            "align_content": null,
            "align_items": null,
            "align_self": null,
            "border": null,
            "bottom": null,
            "display": null,
            "flex": null,
            "flex_flow": null,
            "grid_area": null,
            "grid_auto_columns": null,
            "grid_auto_flow": null,
            "grid_auto_rows": null,
            "grid_column": null,
            "grid_gap": null,
            "grid_row": null,
            "grid_template_areas": null,
            "grid_template_columns": null,
            "grid_template_rows": null,
            "height": null,
            "justify_content": null,
            "justify_items": null,
            "left": null,
            "margin": null,
            "max_height": null,
            "max_width": null,
            "min_height": null,
            "min_width": null,
            "object_fit": null,
            "object_position": null,
            "order": null,
            "overflow": null,
            "overflow_x": null,
            "overflow_y": null,
            "padding": null,
            "right": null,
            "top": null,
            "visibility": null,
            "width": null
          }
        },
        "4d73384850474be7a29dfb0618f3706d": {
          "model_module": "@jupyter-widgets/controls",
          "model_name": "DescriptionStyleModel",
          "model_module_version": "1.5.0",
          "state": {
            "_model_module": "@jupyter-widgets/controls",
            "_model_module_version": "1.5.0",
            "_model_name": "DescriptionStyleModel",
            "_view_count": null,
            "_view_module": "@jupyter-widgets/base",
            "_view_module_version": "1.2.0",
            "_view_name": "StyleView",
            "description_width": ""
          }
        },
        "96a97e48722842a28bc2ea56a442477d": {
          "model_module": "@jupyter-widgets/base",
          "model_name": "LayoutModel",
          "model_module_version": "1.2.0",
          "state": {
            "_model_module": "@jupyter-widgets/base",
            "_model_module_version": "1.2.0",
            "_model_name": "LayoutModel",
            "_view_count": null,
            "_view_module": "@jupyter-widgets/base",
            "_view_module_version": "1.2.0",
            "_view_name": "LayoutView",
            "align_content": null,
            "align_items": null,
            "align_self": null,
            "border": null,
            "bottom": null,
            "display": null,
            "flex": null,
            "flex_flow": null,
            "grid_area": null,
            "grid_auto_columns": null,
            "grid_auto_flow": null,
            "grid_auto_rows": null,
            "grid_column": null,
            "grid_gap": null,
            "grid_row": null,
            "grid_template_areas": null,
            "grid_template_columns": null,
            "grid_template_rows": null,
            "height": null,
            "justify_content": null,
            "justify_items": null,
            "left": null,
            "margin": null,
            "max_height": null,
            "max_width": null,
            "min_height": null,
            "min_width": null,
            "object_fit": null,
            "object_position": null,
            "order": null,
            "overflow": null,
            "overflow_x": null,
            "overflow_y": null,
            "padding": null,
            "right": null,
            "top": null,
            "visibility": null,
            "width": null
          }
        },
        "7d19e5eab42d4494b1019a1701a440fa": {
          "model_module": "@jupyter-widgets/controls",
          "model_name": "ProgressStyleModel",
          "model_module_version": "1.5.0",
          "state": {
            "_model_module": "@jupyter-widgets/controls",
            "_model_module_version": "1.5.0",
            "_model_name": "ProgressStyleModel",
            "_view_count": null,
            "_view_module": "@jupyter-widgets/base",
            "_view_module_version": "1.2.0",
            "_view_name": "StyleView",
            "bar_color": null,
            "description_width": ""
          }
        },
        "29c125f7e61b43e7af4e5e417e3f1944": {
          "model_module": "@jupyter-widgets/controls",
          "model_name": "VBoxModel",
          "model_module_version": "1.5.0",
          "state": {
            "_dom_classes": [],
            "_model_module": "@jupyter-widgets/controls",
            "_model_module_version": "1.5.0",
            "_model_name": "VBoxModel",
            "_view_count": null,
            "_view_module": "@jupyter-widgets/controls",
            "_view_module_version": "1.5.0",
            "_view_name": "VBoxView",
            "box_style": "",
            "children": [
              "IPY_MODEL_c712ab0392584f47be1671f319f9e737",
              "IPY_MODEL_659e7450787c484dada83bbea9976a61"
            ],
            "layout": "IPY_MODEL_abd461bd6bb0446190a8753b46b3e9e3"
          }
        },
        "c712ab0392584f47be1671f319f9e737": {
          "model_module": "@jupyter-widgets/controls",
          "model_name": "LabelModel",
          "model_module_version": "1.5.0",
          "state": {
            "_dom_classes": [],
            "_model_module": "@jupyter-widgets/controls",
            "_model_module_version": "1.5.0",
            "_model_name": "LabelModel",
            "_view_count": null,
            "_view_module": "@jupyter-widgets/controls",
            "_view_module_version": "1.5.0",
            "_view_name": "LabelView",
            "description": "",
            "description_tooltip": null,
            "layout": "IPY_MODEL_f32f566a867c45d999d3343accf720e1",
            "placeholder": "​",
            "style": "IPY_MODEL_22c88367f88d484790225f38ed4a0b0c",
            "value": "0.019 MB of 0.019 MB uploaded (0.000 MB deduped)\r"
          }
        },
        "659e7450787c484dada83bbea9976a61": {
          "model_module": "@jupyter-widgets/controls",
          "model_name": "FloatProgressModel",
          "model_module_version": "1.5.0",
          "state": {
            "_dom_classes": [],
            "_model_module": "@jupyter-widgets/controls",
            "_model_module_version": "1.5.0",
            "_model_name": "FloatProgressModel",
            "_view_count": null,
            "_view_module": "@jupyter-widgets/controls",
            "_view_module_version": "1.5.0",
            "_view_name": "ProgressView",
            "bar_style": "",
            "description": "",
            "description_tooltip": null,
            "layout": "IPY_MODEL_b0e107621d924bef9ac66582ce0a14f8",
            "max": 1,
            "min": 0,
            "orientation": "horizontal",
            "style": "IPY_MODEL_e12b521a10f944f28a386ed84bb8c8de",
            "value": 1
          }
        },
        "abd461bd6bb0446190a8753b46b3e9e3": {
          "model_module": "@jupyter-widgets/base",
          "model_name": "LayoutModel",
          "model_module_version": "1.2.0",
          "state": {
            "_model_module": "@jupyter-widgets/base",
            "_model_module_version": "1.2.0",
            "_model_name": "LayoutModel",
            "_view_count": null,
            "_view_module": "@jupyter-widgets/base",
            "_view_module_version": "1.2.0",
            "_view_name": "LayoutView",
            "align_content": null,
            "align_items": null,
            "align_self": null,
            "border": null,
            "bottom": null,
            "display": null,
            "flex": null,
            "flex_flow": null,
            "grid_area": null,
            "grid_auto_columns": null,
            "grid_auto_flow": null,
            "grid_auto_rows": null,
            "grid_column": null,
            "grid_gap": null,
            "grid_row": null,
            "grid_template_areas": null,
            "grid_template_columns": null,
            "grid_template_rows": null,
            "height": null,
            "justify_content": null,
            "justify_items": null,
            "left": null,
            "margin": null,
            "max_height": null,
            "max_width": null,
            "min_height": null,
            "min_width": null,
            "object_fit": null,
            "object_position": null,
            "order": null,
            "overflow": null,
            "overflow_x": null,
            "overflow_y": null,
            "padding": null,
            "right": null,
            "top": null,
            "visibility": null,
            "width": null
          }
        },
        "f32f566a867c45d999d3343accf720e1": {
          "model_module": "@jupyter-widgets/base",
          "model_name": "LayoutModel",
          "model_module_version": "1.2.0",
          "state": {
            "_model_module": "@jupyter-widgets/base",
            "_model_module_version": "1.2.0",
            "_model_name": "LayoutModel",
            "_view_count": null,
            "_view_module": "@jupyter-widgets/base",
            "_view_module_version": "1.2.0",
            "_view_name": "LayoutView",
            "align_content": null,
            "align_items": null,
            "align_self": null,
            "border": null,
            "bottom": null,
            "display": null,
            "flex": null,
            "flex_flow": null,
            "grid_area": null,
            "grid_auto_columns": null,
            "grid_auto_flow": null,
            "grid_auto_rows": null,
            "grid_column": null,
            "grid_gap": null,
            "grid_row": null,
            "grid_template_areas": null,
            "grid_template_columns": null,
            "grid_template_rows": null,
            "height": null,
            "justify_content": null,
            "justify_items": null,
            "left": null,
            "margin": null,
            "max_height": null,
            "max_width": null,
            "min_height": null,
            "min_width": null,
            "object_fit": null,
            "object_position": null,
            "order": null,
            "overflow": null,
            "overflow_x": null,
            "overflow_y": null,
            "padding": null,
            "right": null,
            "top": null,
            "visibility": null,
            "width": null
          }
        },
        "22c88367f88d484790225f38ed4a0b0c": {
          "model_module": "@jupyter-widgets/controls",
          "model_name": "DescriptionStyleModel",
          "model_module_version": "1.5.0",
          "state": {
            "_model_module": "@jupyter-widgets/controls",
            "_model_module_version": "1.5.0",
            "_model_name": "DescriptionStyleModel",
            "_view_count": null,
            "_view_module": "@jupyter-widgets/base",
            "_view_module_version": "1.2.0",
            "_view_name": "StyleView",
            "description_width": ""
          }
        },
        "b0e107621d924bef9ac66582ce0a14f8": {
          "model_module": "@jupyter-widgets/base",
          "model_name": "LayoutModel",
          "model_module_version": "1.2.0",
          "state": {
            "_model_module": "@jupyter-widgets/base",
            "_model_module_version": "1.2.0",
            "_model_name": "LayoutModel",
            "_view_count": null,
            "_view_module": "@jupyter-widgets/base",
            "_view_module_version": "1.2.0",
            "_view_name": "LayoutView",
            "align_content": null,
            "align_items": null,
            "align_self": null,
            "border": null,
            "bottom": null,
            "display": null,
            "flex": null,
            "flex_flow": null,
            "grid_area": null,
            "grid_auto_columns": null,
            "grid_auto_flow": null,
            "grid_auto_rows": null,
            "grid_column": null,
            "grid_gap": null,
            "grid_row": null,
            "grid_template_areas": null,
            "grid_template_columns": null,
            "grid_template_rows": null,
            "height": null,
            "justify_content": null,
            "justify_items": null,
            "left": null,
            "margin": null,
            "max_height": null,
            "max_width": null,
            "min_height": null,
            "min_width": null,
            "object_fit": null,
            "object_position": null,
            "order": null,
            "overflow": null,
            "overflow_x": null,
            "overflow_y": null,
            "padding": null,
            "right": null,
            "top": null,
            "visibility": null,
            "width": null
          }
        },
        "e12b521a10f944f28a386ed84bb8c8de": {
          "model_module": "@jupyter-widgets/controls",
          "model_name": "ProgressStyleModel",
          "model_module_version": "1.5.0",
          "state": {
            "_model_module": "@jupyter-widgets/controls",
            "_model_module_version": "1.5.0",
            "_model_name": "ProgressStyleModel",
            "_view_count": null,
            "_view_module": "@jupyter-widgets/base",
            "_view_module_version": "1.2.0",
            "_view_name": "StyleView",
            "bar_color": null,
            "description_width": ""
          }
        },
        "d83c2a34d81a42c7bce0c1e79adf9c81": {
          "model_module": "@jupyter-widgets/controls",
          "model_name": "VBoxModel",
          "model_module_version": "1.5.0",
          "state": {
            "_dom_classes": [],
            "_model_module": "@jupyter-widgets/controls",
            "_model_module_version": "1.5.0",
            "_model_name": "VBoxModel",
            "_view_count": null,
            "_view_module": "@jupyter-widgets/controls",
            "_view_module_version": "1.5.0",
            "_view_name": "VBoxView",
            "box_style": "",
            "children": [
              "IPY_MODEL_254b3ea1a29e43e2ab16fee41f72625d",
              "IPY_MODEL_22c6312f27d041d086d342cb2c677b50"
            ],
            "layout": "IPY_MODEL_1f6fa68a5bce4169833444327513c86f"
          }
        },
        "254b3ea1a29e43e2ab16fee41f72625d": {
          "model_module": "@jupyter-widgets/controls",
          "model_name": "LabelModel",
          "model_module_version": "1.5.0",
          "state": {
            "_dom_classes": [],
            "_model_module": "@jupyter-widgets/controls",
            "_model_module_version": "1.5.0",
            "_model_name": "LabelModel",
            "_view_count": null,
            "_view_module": "@jupyter-widgets/controls",
            "_view_module_version": "1.5.0",
            "_view_name": "LabelView",
            "description": "",
            "description_tooltip": null,
            "layout": "IPY_MODEL_a5c35fdf9e6441098741b26eb5409f72",
            "placeholder": "​",
            "style": "IPY_MODEL_4564d55d6e6e419496859f61f4ac733a",
            "value": "0.051 MB of 0.051 MB uploaded (0.000 MB deduped)\r"
          }
        },
        "22c6312f27d041d086d342cb2c677b50": {
          "model_module": "@jupyter-widgets/controls",
          "model_name": "FloatProgressModel",
          "model_module_version": "1.5.0",
          "state": {
            "_dom_classes": [],
            "_model_module": "@jupyter-widgets/controls",
            "_model_module_version": "1.5.0",
            "_model_name": "FloatProgressModel",
            "_view_count": null,
            "_view_module": "@jupyter-widgets/controls",
            "_view_module_version": "1.5.0",
            "_view_name": "ProgressView",
            "bar_style": "",
            "description": "",
            "description_tooltip": null,
            "layout": "IPY_MODEL_f942f3a873e046fdb99a7005467fcb0d",
            "max": 1,
            "min": 0,
            "orientation": "horizontal",
            "style": "IPY_MODEL_f58fe54319e146a8a04bdb0fe5074f09",
            "value": 1
          }
        },
        "1f6fa68a5bce4169833444327513c86f": {
          "model_module": "@jupyter-widgets/base",
          "model_name": "LayoutModel",
          "model_module_version": "1.2.0",
          "state": {
            "_model_module": "@jupyter-widgets/base",
            "_model_module_version": "1.2.0",
            "_model_name": "LayoutModel",
            "_view_count": null,
            "_view_module": "@jupyter-widgets/base",
            "_view_module_version": "1.2.0",
            "_view_name": "LayoutView",
            "align_content": null,
            "align_items": null,
            "align_self": null,
            "border": null,
            "bottom": null,
            "display": null,
            "flex": null,
            "flex_flow": null,
            "grid_area": null,
            "grid_auto_columns": null,
            "grid_auto_flow": null,
            "grid_auto_rows": null,
            "grid_column": null,
            "grid_gap": null,
            "grid_row": null,
            "grid_template_areas": null,
            "grid_template_columns": null,
            "grid_template_rows": null,
            "height": null,
            "justify_content": null,
            "justify_items": null,
            "left": null,
            "margin": null,
            "max_height": null,
            "max_width": null,
            "min_height": null,
            "min_width": null,
            "object_fit": null,
            "object_position": null,
            "order": null,
            "overflow": null,
            "overflow_x": null,
            "overflow_y": null,
            "padding": null,
            "right": null,
            "top": null,
            "visibility": null,
            "width": null
          }
        },
        "a5c35fdf9e6441098741b26eb5409f72": {
          "model_module": "@jupyter-widgets/base",
          "model_name": "LayoutModel",
          "model_module_version": "1.2.0",
          "state": {
            "_model_module": "@jupyter-widgets/base",
            "_model_module_version": "1.2.0",
            "_model_name": "LayoutModel",
            "_view_count": null,
            "_view_module": "@jupyter-widgets/base",
            "_view_module_version": "1.2.0",
            "_view_name": "LayoutView",
            "align_content": null,
            "align_items": null,
            "align_self": null,
            "border": null,
            "bottom": null,
            "display": null,
            "flex": null,
            "flex_flow": null,
            "grid_area": null,
            "grid_auto_columns": null,
            "grid_auto_flow": null,
            "grid_auto_rows": null,
            "grid_column": null,
            "grid_gap": null,
            "grid_row": null,
            "grid_template_areas": null,
            "grid_template_columns": null,
            "grid_template_rows": null,
            "height": null,
            "justify_content": null,
            "justify_items": null,
            "left": null,
            "margin": null,
            "max_height": null,
            "max_width": null,
            "min_height": null,
            "min_width": null,
            "object_fit": null,
            "object_position": null,
            "order": null,
            "overflow": null,
            "overflow_x": null,
            "overflow_y": null,
            "padding": null,
            "right": null,
            "top": null,
            "visibility": null,
            "width": null
          }
        },
        "4564d55d6e6e419496859f61f4ac733a": {
          "model_module": "@jupyter-widgets/controls",
          "model_name": "DescriptionStyleModel",
          "model_module_version": "1.5.0",
          "state": {
            "_model_module": "@jupyter-widgets/controls",
            "_model_module_version": "1.5.0",
            "_model_name": "DescriptionStyleModel",
            "_view_count": null,
            "_view_module": "@jupyter-widgets/base",
            "_view_module_version": "1.2.0",
            "_view_name": "StyleView",
            "description_width": ""
          }
        },
        "f942f3a873e046fdb99a7005467fcb0d": {
          "model_module": "@jupyter-widgets/base",
          "model_name": "LayoutModel",
          "model_module_version": "1.2.0",
          "state": {
            "_model_module": "@jupyter-widgets/base",
            "_model_module_version": "1.2.0",
            "_model_name": "LayoutModel",
            "_view_count": null,
            "_view_module": "@jupyter-widgets/base",
            "_view_module_version": "1.2.0",
            "_view_name": "LayoutView",
            "align_content": null,
            "align_items": null,
            "align_self": null,
            "border": null,
            "bottom": null,
            "display": null,
            "flex": null,
            "flex_flow": null,
            "grid_area": null,
            "grid_auto_columns": null,
            "grid_auto_flow": null,
            "grid_auto_rows": null,
            "grid_column": null,
            "grid_gap": null,
            "grid_row": null,
            "grid_template_areas": null,
            "grid_template_columns": null,
            "grid_template_rows": null,
            "height": null,
            "justify_content": null,
            "justify_items": null,
            "left": null,
            "margin": null,
            "max_height": null,
            "max_width": null,
            "min_height": null,
            "min_width": null,
            "object_fit": null,
            "object_position": null,
            "order": null,
            "overflow": null,
            "overflow_x": null,
            "overflow_y": null,
            "padding": null,
            "right": null,
            "top": null,
            "visibility": null,
            "width": null
          }
        },
        "f58fe54319e146a8a04bdb0fe5074f09": {
          "model_module": "@jupyter-widgets/controls",
          "model_name": "ProgressStyleModel",
          "model_module_version": "1.5.0",
          "state": {
            "_model_module": "@jupyter-widgets/controls",
            "_model_module_version": "1.5.0",
            "_model_name": "ProgressStyleModel",
            "_view_count": null,
            "_view_module": "@jupyter-widgets/base",
            "_view_module_version": "1.2.0",
            "_view_name": "StyleView",
            "bar_color": null,
            "description_width": ""
          }
        },
        "7aabf13954a74de18b6f936f0d2ae7c6": {
          "model_module": "@jupyter-widgets/controls",
          "model_name": "VBoxModel",
          "model_module_version": "1.5.0",
          "state": {
            "_dom_classes": [],
            "_model_module": "@jupyter-widgets/controls",
            "_model_module_version": "1.5.0",
            "_model_name": "VBoxModel",
            "_view_count": null,
            "_view_module": "@jupyter-widgets/controls",
            "_view_module_version": "1.5.0",
            "_view_name": "VBoxView",
            "box_style": "",
            "children": [
              "IPY_MODEL_8ede450705994c69a1e59477fe086ba3",
              "IPY_MODEL_0c45d835381644f8977f339947b543e0"
            ],
            "layout": "IPY_MODEL_dd23f8b1992d4db68cbe3613990d38bf"
          }
        },
        "8ede450705994c69a1e59477fe086ba3": {
          "model_module": "@jupyter-widgets/controls",
          "model_name": "LabelModel",
          "model_module_version": "1.5.0",
          "state": {
            "_dom_classes": [],
            "_model_module": "@jupyter-widgets/controls",
            "_model_module_version": "1.5.0",
            "_model_name": "LabelModel",
            "_view_count": null,
            "_view_module": "@jupyter-widgets/controls",
            "_view_module_version": "1.5.0",
            "_view_name": "LabelView",
            "description": "",
            "description_tooltip": null,
            "layout": "IPY_MODEL_149b932fc9134214b97fb89a19d5d73d",
            "placeholder": "​",
            "style": "IPY_MODEL_21bfb3863662419794618cf16004865f",
            "value": "0.051 MB of 0.051 MB uploaded (0.000 MB deduped)\r"
          }
        },
        "0c45d835381644f8977f339947b543e0": {
          "model_module": "@jupyter-widgets/controls",
          "model_name": "FloatProgressModel",
          "model_module_version": "1.5.0",
          "state": {
            "_dom_classes": [],
            "_model_module": "@jupyter-widgets/controls",
            "_model_module_version": "1.5.0",
            "_model_name": "FloatProgressModel",
            "_view_count": null,
            "_view_module": "@jupyter-widgets/controls",
            "_view_module_version": "1.5.0",
            "_view_name": "ProgressView",
            "bar_style": "",
            "description": "",
            "description_tooltip": null,
            "layout": "IPY_MODEL_b9cbdd92e5e546ec90bd626da54c8408",
            "max": 1,
            "min": 0,
            "orientation": "horizontal",
            "style": "IPY_MODEL_68d266d6839a47e6b1abe197aa9c1130",
            "value": 1
          }
        },
        "dd23f8b1992d4db68cbe3613990d38bf": {
          "model_module": "@jupyter-widgets/base",
          "model_name": "LayoutModel",
          "model_module_version": "1.2.0",
          "state": {
            "_model_module": "@jupyter-widgets/base",
            "_model_module_version": "1.2.0",
            "_model_name": "LayoutModel",
            "_view_count": null,
            "_view_module": "@jupyter-widgets/base",
            "_view_module_version": "1.2.0",
            "_view_name": "LayoutView",
            "align_content": null,
            "align_items": null,
            "align_self": null,
            "border": null,
            "bottom": null,
            "display": null,
            "flex": null,
            "flex_flow": null,
            "grid_area": null,
            "grid_auto_columns": null,
            "grid_auto_flow": null,
            "grid_auto_rows": null,
            "grid_column": null,
            "grid_gap": null,
            "grid_row": null,
            "grid_template_areas": null,
            "grid_template_columns": null,
            "grid_template_rows": null,
            "height": null,
            "justify_content": null,
            "justify_items": null,
            "left": null,
            "margin": null,
            "max_height": null,
            "max_width": null,
            "min_height": null,
            "min_width": null,
            "object_fit": null,
            "object_position": null,
            "order": null,
            "overflow": null,
            "overflow_x": null,
            "overflow_y": null,
            "padding": null,
            "right": null,
            "top": null,
            "visibility": null,
            "width": null
          }
        },
        "149b932fc9134214b97fb89a19d5d73d": {
          "model_module": "@jupyter-widgets/base",
          "model_name": "LayoutModel",
          "model_module_version": "1.2.0",
          "state": {
            "_model_module": "@jupyter-widgets/base",
            "_model_module_version": "1.2.0",
            "_model_name": "LayoutModel",
            "_view_count": null,
            "_view_module": "@jupyter-widgets/base",
            "_view_module_version": "1.2.0",
            "_view_name": "LayoutView",
            "align_content": null,
            "align_items": null,
            "align_self": null,
            "border": null,
            "bottom": null,
            "display": null,
            "flex": null,
            "flex_flow": null,
            "grid_area": null,
            "grid_auto_columns": null,
            "grid_auto_flow": null,
            "grid_auto_rows": null,
            "grid_column": null,
            "grid_gap": null,
            "grid_row": null,
            "grid_template_areas": null,
            "grid_template_columns": null,
            "grid_template_rows": null,
            "height": null,
            "justify_content": null,
            "justify_items": null,
            "left": null,
            "margin": null,
            "max_height": null,
            "max_width": null,
            "min_height": null,
            "min_width": null,
            "object_fit": null,
            "object_position": null,
            "order": null,
            "overflow": null,
            "overflow_x": null,
            "overflow_y": null,
            "padding": null,
            "right": null,
            "top": null,
            "visibility": null,
            "width": null
          }
        },
        "21bfb3863662419794618cf16004865f": {
          "model_module": "@jupyter-widgets/controls",
          "model_name": "DescriptionStyleModel",
          "model_module_version": "1.5.0",
          "state": {
            "_model_module": "@jupyter-widgets/controls",
            "_model_module_version": "1.5.0",
            "_model_name": "DescriptionStyleModel",
            "_view_count": null,
            "_view_module": "@jupyter-widgets/base",
            "_view_module_version": "1.2.0",
            "_view_name": "StyleView",
            "description_width": ""
          }
        },
        "b9cbdd92e5e546ec90bd626da54c8408": {
          "model_module": "@jupyter-widgets/base",
          "model_name": "LayoutModel",
          "model_module_version": "1.2.0",
          "state": {
            "_model_module": "@jupyter-widgets/base",
            "_model_module_version": "1.2.0",
            "_model_name": "LayoutModel",
            "_view_count": null,
            "_view_module": "@jupyter-widgets/base",
            "_view_module_version": "1.2.0",
            "_view_name": "LayoutView",
            "align_content": null,
            "align_items": null,
            "align_self": null,
            "border": null,
            "bottom": null,
            "display": null,
            "flex": null,
            "flex_flow": null,
            "grid_area": null,
            "grid_auto_columns": null,
            "grid_auto_flow": null,
            "grid_auto_rows": null,
            "grid_column": null,
            "grid_gap": null,
            "grid_row": null,
            "grid_template_areas": null,
            "grid_template_columns": null,
            "grid_template_rows": null,
            "height": null,
            "justify_content": null,
            "justify_items": null,
            "left": null,
            "margin": null,
            "max_height": null,
            "max_width": null,
            "min_height": null,
            "min_width": null,
            "object_fit": null,
            "object_position": null,
            "order": null,
            "overflow": null,
            "overflow_x": null,
            "overflow_y": null,
            "padding": null,
            "right": null,
            "top": null,
            "visibility": null,
            "width": null
          }
        },
        "68d266d6839a47e6b1abe197aa9c1130": {
          "model_module": "@jupyter-widgets/controls",
          "model_name": "ProgressStyleModel",
          "model_module_version": "1.5.0",
          "state": {
            "_model_module": "@jupyter-widgets/controls",
            "_model_module_version": "1.5.0",
            "_model_name": "ProgressStyleModel",
            "_view_count": null,
            "_view_module": "@jupyter-widgets/base",
            "_view_module_version": "1.2.0",
            "_view_name": "StyleView",
            "bar_color": null,
            "description_width": ""
          }
        }
      }
    }
  },
  "nbformat_minor": 0,
  "nbformat": 4,
  "cells": [
    {
      "cell_type": "markdown",
      "metadata": {
        "id": "view-in-github",
        "colab_type": "text"
      },
      "source": [
        "<a href=\"https://colab.research.google.com/github/sndpkirwai/classification-projets/blob/main/Traffic_accident_prediction/traffic-accident-classification-updated.ipynb\" target=\"_parent\"><img src=\"https://colab.research.google.com/assets/colab-badge.svg\" alt=\"Open In Colab\"/></a>"
      ]
    },
    {
      "cell_type": "code",
      "source": [
        "# This Python 3 environment comes with many helpful analytics libraries installed\n",
        "# It is defined by the kaggle/python Docker image: https://github.com/kaggle/docker-python\n",
        "# For example, here's several helpful packages to load\n",
        "\n",
        "import numpy as np # linear algebra\n",
        "import pandas as pd # data processing, CSV file I/O (e.g. pd.read_csv)\n",
        "\n",
        "# Input data files are available in the read-only \"../input/\" directory\n",
        "# For example, running this (by clicking run or pressing Shift+Enter) will list all files under the input directory\n",
        "\n",
        "import os\n",
        "for dirname, _, filenames in os.walk('/kaggle/input'):\n",
        "    for filename in filenames:\n",
        "        print(os.path.join(dirname, filename))\n",
        "\n",
        "# You can write up to 20GB to the current directory (/kaggle/working/) that gets preserved as output when you create a version using \"Save & Run All\" \n",
        "# You can also write temporary files to /kaggle/temp/, but they won't be saved outside of the current session"
      ],
      "metadata": {
        "_uuid": "8f2839f25d086af736a60e9eeb907d3b93b6e0e5",
        "_cell_guid": "b1076dfc-b9ad-4769-8c92-a6c4dae69d19",
        "execution": {
          "iopub.status.busy": "2022-03-04T20:28:25.937393Z",
          "iopub.execute_input": "2022-03-04T20:28:25.937779Z",
          "iopub.status.idle": "2022-03-04T20:28:25.952661Z",
          "shell.execute_reply.started": "2022-03-04T20:28:25.937696Z",
          "shell.execute_reply": "2022-03-04T20:28:25.951536Z"
        },
        "trusted": true,
        "id": "t1VJSu3ygByD"
      },
      "execution_count": null,
      "outputs": []
    },
    {
      "cell_type": "code",
      "source": [
        "from google.colab import drive\n",
        "drive.mount('/content/drive')"
      ],
      "metadata": {
        "colab": {
          "base_uri": "https://localhost:8080/"
        },
        "id": "B2QveF5DgPYQ",
        "outputId": "0ddd8a33-5cc4-4254-8d13-e96b9d4d9234"
      },
      "execution_count": 1,
      "outputs": [
        {
          "output_type": "stream",
          "name": "stdout",
          "text": [
            "Mounted at /content/drive\n"
          ]
        }
      ]
    },
    {
      "cell_type": "code",
      "source": [
        "import pandas as pd\n",
        "import numpy as np\n",
        "import matplotlib.pyplot as plt\n",
        "import seaborn as sns\n",
        "from sklearn.preprocessing import LabelEncoder\n",
        "from sklearn.preprocessing import OneHotEncoder\n",
        "from sklearn.impute import SimpleImputer\n",
        "%matplotlib inline"
      ],
      "metadata": {
        "execution": {
          "iopub.status.busy": "2022-03-04T20:28:25.957601Z",
          "iopub.execute_input": "2022-03-04T20:28:25.958348Z",
          "iopub.status.idle": "2022-03-04T20:28:26.560026Z",
          "shell.execute_reply.started": "2022-03-04T20:28:25.958307Z",
          "shell.execute_reply": "2022-03-04T20:28:26.558495Z"
        },
        "trusted": true,
        "id": "dA4H5ZGjgByN"
      },
      "execution_count": 98,
      "outputs": []
    },
    {
      "cell_type": "code",
      "source": [
        "rta_data = pd.read_csv(\"/content/drive/MyDrive/DS/RTA_classification/RTA Dataset.csv\")\n",
        "rta_data.head()"
      ],
      "metadata": {
        "execution": {
          "iopub.status.busy": "2022-03-04T20:28:26.561423Z",
          "iopub.execute_input": "2022-03-04T20:28:26.561748Z",
          "iopub.status.idle": "2022-03-04T20:28:26.677845Z",
          "shell.execute_reply.started": "2022-03-04T20:28:26.561685Z",
          "shell.execute_reply": "2022-03-04T20:28:26.676815Z"
        },
        "trusted": true,
        "colab": {
          "base_uri": "https://localhost:8080/",
          "height": 351
        },
        "id": "sd1muvBOgByQ",
        "outputId": "d22947e1-a473-4498-ea84-fa1eb8197e83"
      },
      "execution_count": 99,
      "outputs": [
        {
          "output_type": "execute_result",
          "data": {
            "text/plain": [
              "       Time Day_of_week Age_band_of_driver Sex_of_driver   Educational_level  \\\n",
              "0  17:02:00      Monday              18-30          Male   Above high school   \n",
              "1  17:02:00      Monday              31-50          Male  Junior high school   \n",
              "2  17:02:00      Monday              18-30          Male  Junior high school   \n",
              "3   1:06:00      Sunday              18-30          Male  Junior high school   \n",
              "4   1:06:00      Sunday              18-30          Male  Junior high school   \n",
              "\n",
              "  Vehicle_driver_relation Driving_experience      Type_of_vehicle  \\\n",
              "0                Employee              1-2yr           Automobile   \n",
              "1                Employee         Above 10yr  Public (> 45 seats)   \n",
              "2                Employee              1-2yr      Lorry (41?100Q)   \n",
              "3                Employee             5-10yr  Public (> 45 seats)   \n",
              "4                Employee              2-5yr                  NaN   \n",
              "\n",
              "  Owner_of_vehicle Service_year_of_vehicle  ... Vehicle_movement  \\\n",
              "0            Owner              Above 10yr  ...   Going straight   \n",
              "1            Owner                 5-10yrs  ...   Going straight   \n",
              "2            Owner                     NaN  ...   Going straight   \n",
              "3     Governmental                     NaN  ...   Going straight   \n",
              "4            Owner                 5-10yrs  ...   Going straight   \n",
              "\n",
              "    Casualty_class Sex_of_casualty Age_band_of_casualty Casualty_severity  \\\n",
              "0               na              na                   na                na   \n",
              "1               na              na                   na                na   \n",
              "2  Driver or rider            Male                31-50                 3   \n",
              "3       Pedestrian          Female                18-30                 3   \n",
              "4               na              na                   na                na   \n",
              "\n",
              "  Work_of_casuality Fitness_of_casuality Pedestrian_movement  \\\n",
              "0               NaN                  NaN    Not a Pedestrian   \n",
              "1               NaN                  NaN    Not a Pedestrian   \n",
              "2            Driver                  NaN    Not a Pedestrian   \n",
              "3            Driver               Normal    Not a Pedestrian   \n",
              "4               NaN                  NaN    Not a Pedestrian   \n",
              "\n",
              "            Cause_of_accident Accident_severity  \n",
              "0             Moving Backward     Slight Injury  \n",
              "1                  Overtaking     Slight Injury  \n",
              "2   Changing lane to the left    Serious Injury  \n",
              "3  Changing lane to the right     Slight Injury  \n",
              "4                  Overtaking     Slight Injury  \n",
              "\n",
              "[5 rows x 32 columns]"
            ],
            "text/html": [
              "\n",
              "  <div id=\"df-110f447a-555f-4bb0-8a19-af0b6888a3d6\">\n",
              "    <div class=\"colab-df-container\">\n",
              "      <div>\n",
              "<style scoped>\n",
              "    .dataframe tbody tr th:only-of-type {\n",
              "        vertical-align: middle;\n",
              "    }\n",
              "\n",
              "    .dataframe tbody tr th {\n",
              "        vertical-align: top;\n",
              "    }\n",
              "\n",
              "    .dataframe thead th {\n",
              "        text-align: right;\n",
              "    }\n",
              "</style>\n",
              "<table border=\"1\" class=\"dataframe\">\n",
              "  <thead>\n",
              "    <tr style=\"text-align: right;\">\n",
              "      <th></th>\n",
              "      <th>Time</th>\n",
              "      <th>Day_of_week</th>\n",
              "      <th>Age_band_of_driver</th>\n",
              "      <th>Sex_of_driver</th>\n",
              "      <th>Educational_level</th>\n",
              "      <th>Vehicle_driver_relation</th>\n",
              "      <th>Driving_experience</th>\n",
              "      <th>Type_of_vehicle</th>\n",
              "      <th>Owner_of_vehicle</th>\n",
              "      <th>Service_year_of_vehicle</th>\n",
              "      <th>...</th>\n",
              "      <th>Vehicle_movement</th>\n",
              "      <th>Casualty_class</th>\n",
              "      <th>Sex_of_casualty</th>\n",
              "      <th>Age_band_of_casualty</th>\n",
              "      <th>Casualty_severity</th>\n",
              "      <th>Work_of_casuality</th>\n",
              "      <th>Fitness_of_casuality</th>\n",
              "      <th>Pedestrian_movement</th>\n",
              "      <th>Cause_of_accident</th>\n",
              "      <th>Accident_severity</th>\n",
              "    </tr>\n",
              "  </thead>\n",
              "  <tbody>\n",
              "    <tr>\n",
              "      <th>0</th>\n",
              "      <td>17:02:00</td>\n",
              "      <td>Monday</td>\n",
              "      <td>18-30</td>\n",
              "      <td>Male</td>\n",
              "      <td>Above high school</td>\n",
              "      <td>Employee</td>\n",
              "      <td>1-2yr</td>\n",
              "      <td>Automobile</td>\n",
              "      <td>Owner</td>\n",
              "      <td>Above 10yr</td>\n",
              "      <td>...</td>\n",
              "      <td>Going straight</td>\n",
              "      <td>na</td>\n",
              "      <td>na</td>\n",
              "      <td>na</td>\n",
              "      <td>na</td>\n",
              "      <td>NaN</td>\n",
              "      <td>NaN</td>\n",
              "      <td>Not a Pedestrian</td>\n",
              "      <td>Moving Backward</td>\n",
              "      <td>Slight Injury</td>\n",
              "    </tr>\n",
              "    <tr>\n",
              "      <th>1</th>\n",
              "      <td>17:02:00</td>\n",
              "      <td>Monday</td>\n",
              "      <td>31-50</td>\n",
              "      <td>Male</td>\n",
              "      <td>Junior high school</td>\n",
              "      <td>Employee</td>\n",
              "      <td>Above 10yr</td>\n",
              "      <td>Public (&gt; 45 seats)</td>\n",
              "      <td>Owner</td>\n",
              "      <td>5-10yrs</td>\n",
              "      <td>...</td>\n",
              "      <td>Going straight</td>\n",
              "      <td>na</td>\n",
              "      <td>na</td>\n",
              "      <td>na</td>\n",
              "      <td>na</td>\n",
              "      <td>NaN</td>\n",
              "      <td>NaN</td>\n",
              "      <td>Not a Pedestrian</td>\n",
              "      <td>Overtaking</td>\n",
              "      <td>Slight Injury</td>\n",
              "    </tr>\n",
              "    <tr>\n",
              "      <th>2</th>\n",
              "      <td>17:02:00</td>\n",
              "      <td>Monday</td>\n",
              "      <td>18-30</td>\n",
              "      <td>Male</td>\n",
              "      <td>Junior high school</td>\n",
              "      <td>Employee</td>\n",
              "      <td>1-2yr</td>\n",
              "      <td>Lorry (41?100Q)</td>\n",
              "      <td>Owner</td>\n",
              "      <td>NaN</td>\n",
              "      <td>...</td>\n",
              "      <td>Going straight</td>\n",
              "      <td>Driver or rider</td>\n",
              "      <td>Male</td>\n",
              "      <td>31-50</td>\n",
              "      <td>3</td>\n",
              "      <td>Driver</td>\n",
              "      <td>NaN</td>\n",
              "      <td>Not a Pedestrian</td>\n",
              "      <td>Changing lane to the left</td>\n",
              "      <td>Serious Injury</td>\n",
              "    </tr>\n",
              "    <tr>\n",
              "      <th>3</th>\n",
              "      <td>1:06:00</td>\n",
              "      <td>Sunday</td>\n",
              "      <td>18-30</td>\n",
              "      <td>Male</td>\n",
              "      <td>Junior high school</td>\n",
              "      <td>Employee</td>\n",
              "      <td>5-10yr</td>\n",
              "      <td>Public (&gt; 45 seats)</td>\n",
              "      <td>Governmental</td>\n",
              "      <td>NaN</td>\n",
              "      <td>...</td>\n",
              "      <td>Going straight</td>\n",
              "      <td>Pedestrian</td>\n",
              "      <td>Female</td>\n",
              "      <td>18-30</td>\n",
              "      <td>3</td>\n",
              "      <td>Driver</td>\n",
              "      <td>Normal</td>\n",
              "      <td>Not a Pedestrian</td>\n",
              "      <td>Changing lane to the right</td>\n",
              "      <td>Slight Injury</td>\n",
              "    </tr>\n",
              "    <tr>\n",
              "      <th>4</th>\n",
              "      <td>1:06:00</td>\n",
              "      <td>Sunday</td>\n",
              "      <td>18-30</td>\n",
              "      <td>Male</td>\n",
              "      <td>Junior high school</td>\n",
              "      <td>Employee</td>\n",
              "      <td>2-5yr</td>\n",
              "      <td>NaN</td>\n",
              "      <td>Owner</td>\n",
              "      <td>5-10yrs</td>\n",
              "      <td>...</td>\n",
              "      <td>Going straight</td>\n",
              "      <td>na</td>\n",
              "      <td>na</td>\n",
              "      <td>na</td>\n",
              "      <td>na</td>\n",
              "      <td>NaN</td>\n",
              "      <td>NaN</td>\n",
              "      <td>Not a Pedestrian</td>\n",
              "      <td>Overtaking</td>\n",
              "      <td>Slight Injury</td>\n",
              "    </tr>\n",
              "  </tbody>\n",
              "</table>\n",
              "<p>5 rows × 32 columns</p>\n",
              "</div>\n",
              "      <button class=\"colab-df-convert\" onclick=\"convertToInteractive('df-110f447a-555f-4bb0-8a19-af0b6888a3d6')\"\n",
              "              title=\"Convert this dataframe to an interactive table.\"\n",
              "              style=\"display:none;\">\n",
              "        \n",
              "  <svg xmlns=\"http://www.w3.org/2000/svg\" height=\"24px\"viewBox=\"0 0 24 24\"\n",
              "       width=\"24px\">\n",
              "    <path d=\"M0 0h24v24H0V0z\" fill=\"none\"/>\n",
              "    <path d=\"M18.56 5.44l.94 2.06.94-2.06 2.06-.94-2.06-.94-.94-2.06-.94 2.06-2.06.94zm-11 1L8.5 8.5l.94-2.06 2.06-.94-2.06-.94L8.5 2.5l-.94 2.06-2.06.94zm10 10l.94 2.06.94-2.06 2.06-.94-2.06-.94-.94-2.06-.94 2.06-2.06.94z\"/><path d=\"M17.41 7.96l-1.37-1.37c-.4-.4-.92-.59-1.43-.59-.52 0-1.04.2-1.43.59L10.3 9.45l-7.72 7.72c-.78.78-.78 2.05 0 2.83L4 21.41c.39.39.9.59 1.41.59.51 0 1.02-.2 1.41-.59l7.78-7.78 2.81-2.81c.8-.78.8-2.07 0-2.86zM5.41 20L4 18.59l7.72-7.72 1.47 1.35L5.41 20z\"/>\n",
              "  </svg>\n",
              "      </button>\n",
              "      \n",
              "  <style>\n",
              "    .colab-df-container {\n",
              "      display:flex;\n",
              "      flex-wrap:wrap;\n",
              "      gap: 12px;\n",
              "    }\n",
              "\n",
              "    .colab-df-convert {\n",
              "      background-color: #E8F0FE;\n",
              "      border: none;\n",
              "      border-radius: 50%;\n",
              "      cursor: pointer;\n",
              "      display: none;\n",
              "      fill: #1967D2;\n",
              "      height: 32px;\n",
              "      padding: 0 0 0 0;\n",
              "      width: 32px;\n",
              "    }\n",
              "\n",
              "    .colab-df-convert:hover {\n",
              "      background-color: #E2EBFA;\n",
              "      box-shadow: 0px 1px 2px rgba(60, 64, 67, 0.3), 0px 1px 3px 1px rgba(60, 64, 67, 0.15);\n",
              "      fill: #174EA6;\n",
              "    }\n",
              "\n",
              "    [theme=dark] .colab-df-convert {\n",
              "      background-color: #3B4455;\n",
              "      fill: #D2E3FC;\n",
              "    }\n",
              "\n",
              "    [theme=dark] .colab-df-convert:hover {\n",
              "      background-color: #434B5C;\n",
              "      box-shadow: 0px 1px 3px 1px rgba(0, 0, 0, 0.15);\n",
              "      filter: drop-shadow(0px 1px 2px rgba(0, 0, 0, 0.3));\n",
              "      fill: #FFFFFF;\n",
              "    }\n",
              "  </style>\n",
              "\n",
              "      <script>\n",
              "        const buttonEl =\n",
              "          document.querySelector('#df-110f447a-555f-4bb0-8a19-af0b6888a3d6 button.colab-df-convert');\n",
              "        buttonEl.style.display =\n",
              "          google.colab.kernel.accessAllowed ? 'block' : 'none';\n",
              "\n",
              "        async function convertToInteractive(key) {\n",
              "          const element = document.querySelector('#df-110f447a-555f-4bb0-8a19-af0b6888a3d6');\n",
              "          const dataTable =\n",
              "            await google.colab.kernel.invokeFunction('convertToInteractive',\n",
              "                                                     [key], {});\n",
              "          if (!dataTable) return;\n",
              "\n",
              "          const docLinkHtml = 'Like what you see? Visit the ' +\n",
              "            '<a target=\"_blank\" href=https://colab.research.google.com/notebooks/data_table.ipynb>data table notebook</a>'\n",
              "            + ' to learn more about interactive tables.';\n",
              "          element.innerHTML = '';\n",
              "          dataTable['output_type'] = 'display_data';\n",
              "          await google.colab.output.renderOutput(dataTable, element);\n",
              "          const docLink = document.createElement('div');\n",
              "          docLink.innerHTML = docLinkHtml;\n",
              "          element.appendChild(docLink);\n",
              "        }\n",
              "      </script>\n",
              "    </div>\n",
              "  </div>\n",
              "  "
            ]
          },
          "metadata": {},
          "execution_count": 99
        }
      ]
    },
    {
      "cell_type": "code",
      "source": [
        "%%capture\n",
        "!pip install wandb"
      ],
      "metadata": {
        "id": "jRuUdNHvhOa5"
      },
      "execution_count": 100,
      "outputs": []
    },
    {
      "cell_type": "markdown",
      "source": [
        "## Step 1: Import W&B and Login"
      ],
      "metadata": {
        "id": "QBi5FrAEhZEs"
      }
    },
    {
      "cell_type": "code",
      "source": [
        "import wandb\n",
        "\n",
        "wandb.login()"
      ],
      "metadata": {
        "colab": {
          "base_uri": "https://localhost:8080/"
        },
        "id": "tqzx96tuhdOX",
        "outputId": "0c902e80-329b-4cad-efe9-9dcc8dfe26e1"
      },
      "execution_count": 101,
      "outputs": [
        {
          "output_type": "execute_result",
          "data": {
            "text/plain": [
              "True"
            ]
          },
          "metadata": {},
          "execution_count": 101
        }
      ]
    },
    {
      "cell_type": "code",
      "source": [
        "rta_data.info"
      ],
      "metadata": {
        "execution": {
          "iopub.status.busy": "2022-03-04T20:28:26.679992Z",
          "iopub.execute_input": "2022-03-04T20:28:26.680454Z",
          "iopub.status.idle": "2022-03-04T20:28:26.701863Z",
          "shell.execute_reply.started": "2022-03-04T20:28:26.680405Z",
          "shell.execute_reply": "2022-03-04T20:28:26.701056Z"
        },
        "trusted": true,
        "colab": {
          "base_uri": "https://localhost:8080/"
        },
        "id": "GH72KDmOgByR",
        "outputId": "58f56907-2923-4303-89a1-db46b90a8f9c"
      },
      "execution_count": 102,
      "outputs": [
        {
          "output_type": "execute_result",
          "data": {
            "text/plain": [
              "<bound method DataFrame.info of            Time Day_of_week Age_band_of_driver Sex_of_driver  \\\n",
              "0      17:02:00      Monday              18-30          Male   \n",
              "1      17:02:00      Monday              31-50          Male   \n",
              "2      17:02:00      Monday              18-30          Male   \n",
              "3       1:06:00      Sunday              18-30          Male   \n",
              "4       1:06:00      Sunday              18-30          Male   \n",
              "...         ...         ...                ...           ...   \n",
              "12311  16:15:00   Wednesday              31-50          Male   \n",
              "12312  18:00:00      Sunday            Unknown          Male   \n",
              "12313  13:55:00      Sunday            Over 51          Male   \n",
              "12314  13:55:00      Sunday              18-30        Female   \n",
              "12315  13:55:00      Sunday              18-30          Male   \n",
              "\n",
              "        Educational_level Vehicle_driver_relation Driving_experience  \\\n",
              "0       Above high school                Employee              1-2yr   \n",
              "1      Junior high school                Employee         Above 10yr   \n",
              "2      Junior high school                Employee              1-2yr   \n",
              "3      Junior high school                Employee             5-10yr   \n",
              "4      Junior high school                Employee              2-5yr   \n",
              "...                   ...                     ...                ...   \n",
              "12311                 NaN                Employee              2-5yr   \n",
              "12312   Elementary school                Employee             5-10yr   \n",
              "12313  Junior high school                Employee             5-10yr   \n",
              "12314  Junior high school                Employee         Above 10yr   \n",
              "12315  Junior high school                Employee             5-10yr   \n",
              "\n",
              "           Type_of_vehicle Owner_of_vehicle Service_year_of_vehicle  ...  \\\n",
              "0               Automobile            Owner              Above 10yr  ...   \n",
              "1      Public (> 45 seats)            Owner                 5-10yrs  ...   \n",
              "2          Lorry (41?100Q)            Owner                     NaN  ...   \n",
              "3      Public (> 45 seats)     Governmental                     NaN  ...   \n",
              "4                      NaN            Owner                 5-10yrs  ...   \n",
              "...                    ...              ...                     ...  ...   \n",
              "12311       Lorry (11?40Q)            Owner                     NaN  ...   \n",
              "12312           Automobile            Owner                     NaN  ...   \n",
              "12313                Bajaj            Owner                  2-5yrs  ...   \n",
              "12314      Lorry (41?100Q)            Owner                  2-5yrs  ...   \n",
              "12315                Other            Owner                  2-5yrs  ...   \n",
              "\n",
              "      Vehicle_movement   Casualty_class Sex_of_casualty Age_band_of_casualty  \\\n",
              "0       Going straight               na              na                   na   \n",
              "1       Going straight               na              na                   na   \n",
              "2       Going straight  Driver or rider            Male                31-50   \n",
              "3       Going straight       Pedestrian          Female                18-30   \n",
              "4       Going straight               na              na                   na   \n",
              "...                ...              ...             ...                  ...   \n",
              "12311   Going straight               na              na                   na   \n",
              "12312            Other               na              na                   na   \n",
              "12313            Other  Driver or rider            Male                31-50   \n",
              "12314            Other               na              na                   na   \n",
              "12315         Stopping       Pedestrian          Female                    5   \n",
              "\n",
              "      Casualty_severity Work_of_casuality Fitness_of_casuality  \\\n",
              "0                    na               NaN                  NaN   \n",
              "1                    na               NaN                  NaN   \n",
              "2                     3            Driver                  NaN   \n",
              "3                     3            Driver               Normal   \n",
              "4                    na               NaN                  NaN   \n",
              "...                 ...               ...                  ...   \n",
              "12311                na            Driver               Normal   \n",
              "12312                na            Driver               Normal   \n",
              "12313                 3            Driver               Normal   \n",
              "12314                na            Driver               Normal   \n",
              "12315                 3            Driver               Normal   \n",
              "\n",
              "                                     Pedestrian_movement  \\\n",
              "0                                       Not a Pedestrian   \n",
              "1                                       Not a Pedestrian   \n",
              "2                                       Not a Pedestrian   \n",
              "3                                       Not a Pedestrian   \n",
              "4                                       Not a Pedestrian   \n",
              "...                                                  ...   \n",
              "12311                                   Not a Pedestrian   \n",
              "12312                                   Not a Pedestrian   \n",
              "12313                                   Not a Pedestrian   \n",
              "12314                                   Not a Pedestrian   \n",
              "12315  Crossing from nearside - masked by parked or s...   \n",
              "\n",
              "                          Cause_of_accident Accident_severity  \n",
              "0                           Moving Backward     Slight Injury  \n",
              "1                                Overtaking     Slight Injury  \n",
              "2                 Changing lane to the left    Serious Injury  \n",
              "3                Changing lane to the right     Slight Injury  \n",
              "4                                Overtaking     Slight Injury  \n",
              "...                                     ...               ...  \n",
              "12311                         No distancing     Slight Injury  \n",
              "12312                         No distancing     Slight Injury  \n",
              "12313            Changing lane to the right    Serious Injury  \n",
              "12314  Driving under the influence of drugs     Slight Injury  \n",
              "12315            Changing lane to the right     Slight Injury  \n",
              "\n",
              "[12316 rows x 32 columns]>"
            ]
          },
          "metadata": {},
          "execution_count": 102
        }
      ]
    },
    {
      "cell_type": "code",
      "source": [
        "rta_data.columns"
      ],
      "metadata": {
        "execution": {
          "iopub.status.busy": "2022-03-04T20:28:26.703646Z",
          "iopub.execute_input": "2022-03-04T20:28:26.704397Z",
          "iopub.status.idle": "2022-03-04T20:28:26.710908Z",
          "shell.execute_reply.started": "2022-03-04T20:28:26.704353Z",
          "shell.execute_reply": "2022-03-04T20:28:26.709744Z"
        },
        "trusted": true,
        "colab": {
          "base_uri": "https://localhost:8080/"
        },
        "id": "4v83SBqUgByS",
        "outputId": "bf981b64-3cb2-46dc-a9c4-8e7a5012fd73"
      },
      "execution_count": 103,
      "outputs": [
        {
          "output_type": "execute_result",
          "data": {
            "text/plain": [
              "Index(['Time', 'Day_of_week', 'Age_band_of_driver', 'Sex_of_driver',\n",
              "       'Educational_level', 'Vehicle_driver_relation', 'Driving_experience',\n",
              "       'Type_of_vehicle', 'Owner_of_vehicle', 'Service_year_of_vehicle',\n",
              "       'Defect_of_vehicle', 'Area_accident_occured', 'Lanes_or_Medians',\n",
              "       'Road_allignment', 'Types_of_Junction', 'Road_surface_type',\n",
              "       'Road_surface_conditions', 'Light_conditions', 'Weather_conditions',\n",
              "       'Type_of_collision', 'Number_of_vehicles_involved',\n",
              "       'Number_of_casualties', 'Vehicle_movement', 'Casualty_class',\n",
              "       'Sex_of_casualty', 'Age_band_of_casualty', 'Casualty_severity',\n",
              "       'Work_of_casuality', 'Fitness_of_casuality', 'Pedestrian_movement',\n",
              "       'Cause_of_accident', 'Accident_severity'],\n",
              "      dtype='object')"
            ]
          },
          "metadata": {},
          "execution_count": 103
        }
      ]
    },
    {
      "cell_type": "code",
      "source": [
        "rta_data.isna().sum()"
      ],
      "metadata": {
        "execution": {
          "iopub.status.busy": "2022-03-04T20:28:26.712210Z",
          "iopub.execute_input": "2022-03-04T20:28:26.712456Z",
          "iopub.status.idle": "2022-03-04T20:28:26.744120Z",
          "shell.execute_reply.started": "2022-03-04T20:28:26.712424Z",
          "shell.execute_reply": "2022-03-04T20:28:26.742799Z"
        },
        "trusted": true,
        "colab": {
          "base_uri": "https://localhost:8080/"
        },
        "id": "ETD3lV2ugByT",
        "outputId": "25fa7869-d6ad-4045-a356-d8e16a47bc0c"
      },
      "execution_count": 104,
      "outputs": [
        {
          "output_type": "execute_result",
          "data": {
            "text/plain": [
              "Time                              0\n",
              "Day_of_week                       0\n",
              "Age_band_of_driver                0\n",
              "Sex_of_driver                     0\n",
              "Educational_level               741\n",
              "Vehicle_driver_relation         579\n",
              "Driving_experience              829\n",
              "Type_of_vehicle                 950\n",
              "Owner_of_vehicle                482\n",
              "Service_year_of_vehicle        3928\n",
              "Defect_of_vehicle              4427\n",
              "Area_accident_occured           239\n",
              "Lanes_or_Medians                385\n",
              "Road_allignment                 142\n",
              "Types_of_Junction               887\n",
              "Road_surface_type               172\n",
              "Road_surface_conditions           0\n",
              "Light_conditions                  0\n",
              "Weather_conditions                0\n",
              "Type_of_collision               155\n",
              "Number_of_vehicles_involved       0\n",
              "Number_of_casualties              0\n",
              "Vehicle_movement                308\n",
              "Casualty_class                    0\n",
              "Sex_of_casualty                   0\n",
              "Age_band_of_casualty              0\n",
              "Casualty_severity                 0\n",
              "Work_of_casuality              3198\n",
              "Fitness_of_casuality           2635\n",
              "Pedestrian_movement               0\n",
              "Cause_of_accident                 0\n",
              "Accident_severity                 0\n",
              "dtype: int64"
            ]
          },
          "metadata": {},
          "execution_count": 104
        }
      ]
    },
    {
      "cell_type": "code",
      "source": [
        "rta_data_corr = rta_data.corr()\n",
        "rta_data_corr.style.background_gradient(cmap=\"cool\")"
      ],
      "metadata": {
        "execution": {
          "iopub.status.busy": "2022-03-04T20:28:26.745692Z",
          "iopub.execute_input": "2022-03-04T20:28:26.746057Z",
          "iopub.status.idle": "2022-03-04T20:28:26.813440Z",
          "shell.execute_reply.started": "2022-03-04T20:28:26.746010Z",
          "shell.execute_reply": "2022-03-04T20:28:26.812686Z"
        },
        "trusted": true,
        "colab": {
          "base_uri": "https://localhost:8080/",
          "height": 112
        },
        "id": "ZVqld32lgByU",
        "outputId": "656277cf-5ea2-4c48-e2f9-c9edc32f5428"
      },
      "execution_count": 105,
      "outputs": [
        {
          "output_type": "execute_result",
          "data": {
            "text/plain": [
              "<pandas.io.formats.style.Styler at 0x7fc27f87dd50>"
            ],
            "text/html": [
              "<style type=\"text/css\">\n",
              "#T_53c36_row0_col0, #T_53c36_row1_col1 {\n",
              "  background-color: #ff00ff;\n",
              "  color: #f1f1f1;\n",
              "}\n",
              "#T_53c36_row0_col1, #T_53c36_row1_col0 {\n",
              "  background-color: #00ffff;\n",
              "  color: #000000;\n",
              "}\n",
              "</style>\n",
              "<table id=\"T_53c36_\" class=\"dataframe\">\n",
              "  <thead>\n",
              "    <tr>\n",
              "      <th class=\"blank level0\" >&nbsp;</th>\n",
              "      <th class=\"col_heading level0 col0\" >Number_of_vehicles_involved</th>\n",
              "      <th class=\"col_heading level0 col1\" >Number_of_casualties</th>\n",
              "    </tr>\n",
              "  </thead>\n",
              "  <tbody>\n",
              "    <tr>\n",
              "      <th id=\"T_53c36_level0_row0\" class=\"row_heading level0 row0\" >Number_of_vehicles_involved</th>\n",
              "      <td id=\"T_53c36_row0_col0\" class=\"data row0 col0\" >1.000000</td>\n",
              "      <td id=\"T_53c36_row0_col1\" class=\"data row0 col1\" >0.213427</td>\n",
              "    </tr>\n",
              "    <tr>\n",
              "      <th id=\"T_53c36_level0_row1\" class=\"row_heading level0 row1\" >Number_of_casualties</th>\n",
              "      <td id=\"T_53c36_row1_col0\" class=\"data row1 col0\" >0.213427</td>\n",
              "      <td id=\"T_53c36_row1_col1\" class=\"data row1 col1\" >1.000000</td>\n",
              "    </tr>\n",
              "  </tbody>\n",
              "</table>\n"
            ]
          },
          "metadata": {},
          "execution_count": 105
        }
      ]
    },
    {
      "cell_type": "code",
      "source": [
        "# separate into input and output columns\n",
        "features = rta_data.iloc[:,:-1]\n",
        "print(features)\n",
        "outputLabel = rta_data.iloc[:,-1]\n",
        "print(outputLabel)\n",
        "# pip install sklearn-pandas==1.5.0"
      ],
      "metadata": {
        "execution": {
          "iopub.status.busy": "2022-03-04T20:28:26.814934Z",
          "iopub.execute_input": "2022-03-04T20:28:26.815452Z",
          "iopub.status.idle": "2022-03-04T20:28:26.841110Z",
          "shell.execute_reply.started": "2022-03-04T20:28:26.815387Z",
          "shell.execute_reply": "2022-03-04T20:28:26.840408Z"
        },
        "trusted": true,
        "colab": {
          "base_uri": "https://localhost:8080/"
        },
        "id": "E6mb-qD3gByV",
        "outputId": "073e4027-89f1-4b37-daf7-fc739c7df5ad"
      },
      "execution_count": 106,
      "outputs": [
        {
          "output_type": "stream",
          "name": "stdout",
          "text": [
            "           Time Day_of_week Age_band_of_driver Sex_of_driver  \\\n",
            "0      17:02:00      Monday              18-30          Male   \n",
            "1      17:02:00      Monday              31-50          Male   \n",
            "2      17:02:00      Monday              18-30          Male   \n",
            "3       1:06:00      Sunday              18-30          Male   \n",
            "4       1:06:00      Sunday              18-30          Male   \n",
            "...         ...         ...                ...           ...   \n",
            "12311  16:15:00   Wednesday              31-50          Male   \n",
            "12312  18:00:00      Sunday            Unknown          Male   \n",
            "12313  13:55:00      Sunday            Over 51          Male   \n",
            "12314  13:55:00      Sunday              18-30        Female   \n",
            "12315  13:55:00      Sunday              18-30          Male   \n",
            "\n",
            "        Educational_level Vehicle_driver_relation Driving_experience  \\\n",
            "0       Above high school                Employee              1-2yr   \n",
            "1      Junior high school                Employee         Above 10yr   \n",
            "2      Junior high school                Employee              1-2yr   \n",
            "3      Junior high school                Employee             5-10yr   \n",
            "4      Junior high school                Employee              2-5yr   \n",
            "...                   ...                     ...                ...   \n",
            "12311                 NaN                Employee              2-5yr   \n",
            "12312   Elementary school                Employee             5-10yr   \n",
            "12313  Junior high school                Employee             5-10yr   \n",
            "12314  Junior high school                Employee         Above 10yr   \n",
            "12315  Junior high school                Employee             5-10yr   \n",
            "\n",
            "           Type_of_vehicle Owner_of_vehicle Service_year_of_vehicle  ...  \\\n",
            "0               Automobile            Owner              Above 10yr  ...   \n",
            "1      Public (> 45 seats)            Owner                 5-10yrs  ...   \n",
            "2          Lorry (41?100Q)            Owner                     NaN  ...   \n",
            "3      Public (> 45 seats)     Governmental                     NaN  ...   \n",
            "4                      NaN            Owner                 5-10yrs  ...   \n",
            "...                    ...              ...                     ...  ...   \n",
            "12311       Lorry (11?40Q)            Owner                     NaN  ...   \n",
            "12312           Automobile            Owner                     NaN  ...   \n",
            "12313                Bajaj            Owner                  2-5yrs  ...   \n",
            "12314      Lorry (41?100Q)            Owner                  2-5yrs  ...   \n",
            "12315                Other            Owner                  2-5yrs  ...   \n",
            "\n",
            "      Number_of_casualties Vehicle_movement   Casualty_class Sex_of_casualty  \\\n",
            "0                        2   Going straight               na              na   \n",
            "1                        2   Going straight               na              na   \n",
            "2                        2   Going straight  Driver or rider            Male   \n",
            "3                        2   Going straight       Pedestrian          Female   \n",
            "4                        2   Going straight               na              na   \n",
            "...                    ...              ...              ...             ...   \n",
            "12311                    1   Going straight               na              na   \n",
            "12312                    1            Other               na              na   \n",
            "12313                    1            Other  Driver or rider            Male   \n",
            "12314                    1            Other               na              na   \n",
            "12315                    1         Stopping       Pedestrian          Female   \n",
            "\n",
            "      Age_band_of_casualty Casualty_severity Work_of_casuality  \\\n",
            "0                       na                na               NaN   \n",
            "1                       na                na               NaN   \n",
            "2                    31-50                 3            Driver   \n",
            "3                    18-30                 3            Driver   \n",
            "4                       na                na               NaN   \n",
            "...                    ...               ...               ...   \n",
            "12311                   na                na            Driver   \n",
            "12312                   na                na            Driver   \n",
            "12313                31-50                 3            Driver   \n",
            "12314                   na                na            Driver   \n",
            "12315                    5                 3            Driver   \n",
            "\n",
            "      Fitness_of_casuality                                Pedestrian_movement  \\\n",
            "0                      NaN                                   Not a Pedestrian   \n",
            "1                      NaN                                   Not a Pedestrian   \n",
            "2                      NaN                                   Not a Pedestrian   \n",
            "3                   Normal                                   Not a Pedestrian   \n",
            "4                      NaN                                   Not a Pedestrian   \n",
            "...                    ...                                                ...   \n",
            "12311               Normal                                   Not a Pedestrian   \n",
            "12312               Normal                                   Not a Pedestrian   \n",
            "12313               Normal                                   Not a Pedestrian   \n",
            "12314               Normal                                   Not a Pedestrian   \n",
            "12315               Normal  Crossing from nearside - masked by parked or s...   \n",
            "\n",
            "                          Cause_of_accident  \n",
            "0                           Moving Backward  \n",
            "1                                Overtaking  \n",
            "2                 Changing lane to the left  \n",
            "3                Changing lane to the right  \n",
            "4                                Overtaking  \n",
            "...                                     ...  \n",
            "12311                         No distancing  \n",
            "12312                         No distancing  \n",
            "12313            Changing lane to the right  \n",
            "12314  Driving under the influence of drugs  \n",
            "12315            Changing lane to the right  \n",
            "\n",
            "[12316 rows x 31 columns]\n",
            "0         Slight Injury\n",
            "1         Slight Injury\n",
            "2        Serious Injury\n",
            "3         Slight Injury\n",
            "4         Slight Injury\n",
            "              ...      \n",
            "12311     Slight Injury\n",
            "12312     Slight Injury\n",
            "12313    Serious Injury\n",
            "12314     Slight Injury\n",
            "12315     Slight Injury\n",
            "Name: Accident_severity, Length: 12316, dtype: object\n"
          ]
        }
      ]
    },
    {
      "cell_type": "code",
      "source": [
        "# As the columns which have missing values, they are only categorical, we'll use the categorical imputer\n",
        "# Importing the categorical imputer\n",
        "# from sklearn_pandas import CategoricalImputer\n",
        "# imputer = CategoricalImputer()\n",
        "imputer = SimpleImputer(strategy='most_frequent')\n",
        "imputed_features = pd.DataFrame(imputer.fit_transform(features))\n",
        "imputed_features.columns = features.columns\n",
        "imputed_features.columns"
      ],
      "metadata": {
        "execution": {
          "iopub.status.busy": "2022-03-04T20:28:26.842038Z",
          "iopub.execute_input": "2022-03-04T20:28:26.842265Z",
          "iopub.status.idle": "2022-03-04T20:28:28.000061Z",
          "shell.execute_reply.started": "2022-03-04T20:28:26.842237Z",
          "shell.execute_reply": "2022-03-04T20:28:27.999020Z"
        },
        "trusted": true,
        "colab": {
          "base_uri": "https://localhost:8080/"
        },
        "id": "KAHQcL-qgByX",
        "outputId": "8d57b668-7bb1-4d94-abc1-8434f0bbd5e4"
      },
      "execution_count": 107,
      "outputs": [
        {
          "output_type": "execute_result",
          "data": {
            "text/plain": [
              "Index(['Time', 'Day_of_week', 'Age_band_of_driver', 'Sex_of_driver',\n",
              "       'Educational_level', 'Vehicle_driver_relation', 'Driving_experience',\n",
              "       'Type_of_vehicle', 'Owner_of_vehicle', 'Service_year_of_vehicle',\n",
              "       'Defect_of_vehicle', 'Area_accident_occured', 'Lanes_or_Medians',\n",
              "       'Road_allignment', 'Types_of_Junction', 'Road_surface_type',\n",
              "       'Road_surface_conditions', 'Light_conditions', 'Weather_conditions',\n",
              "       'Type_of_collision', 'Number_of_vehicles_involved',\n",
              "       'Number_of_casualties', 'Vehicle_movement', 'Casualty_class',\n",
              "       'Sex_of_casualty', 'Age_band_of_casualty', 'Casualty_severity',\n",
              "       'Work_of_casuality', 'Fitness_of_casuality', 'Pedestrian_movement',\n",
              "       'Cause_of_accident'],\n",
              "      dtype='object')"
            ]
          },
          "metadata": {},
          "execution_count": 107
        }
      ]
    },
    {
      "cell_type": "code",
      "source": [
        "imputed_features.isna().sum()"
      ],
      "metadata": {
        "colab": {
          "base_uri": "https://localhost:8080/"
        },
        "id": "dz5g4oEziqXa",
        "outputId": "e2674a84-dc68-4615-89f3-b1bc5695c5c8"
      },
      "execution_count": 108,
      "outputs": [
        {
          "output_type": "execute_result",
          "data": {
            "text/plain": [
              "Time                           0\n",
              "Day_of_week                    0\n",
              "Age_band_of_driver             0\n",
              "Sex_of_driver                  0\n",
              "Educational_level              0\n",
              "Vehicle_driver_relation        0\n",
              "Driving_experience             0\n",
              "Type_of_vehicle                0\n",
              "Owner_of_vehicle               0\n",
              "Service_year_of_vehicle        0\n",
              "Defect_of_vehicle              0\n",
              "Area_accident_occured          0\n",
              "Lanes_or_Medians               0\n",
              "Road_allignment                0\n",
              "Types_of_Junction              0\n",
              "Road_surface_type              0\n",
              "Road_surface_conditions        0\n",
              "Light_conditions               0\n",
              "Weather_conditions             0\n",
              "Type_of_collision              0\n",
              "Number_of_vehicles_involved    0\n",
              "Number_of_casualties           0\n",
              "Vehicle_movement               0\n",
              "Casualty_class                 0\n",
              "Sex_of_casualty                0\n",
              "Age_band_of_casualty           0\n",
              "Casualty_severity              0\n",
              "Work_of_casuality              0\n",
              "Fitness_of_casuality           0\n",
              "Pedestrian_movement            0\n",
              "Cause_of_accident              0\n",
              "dtype: int64"
            ]
          },
          "metadata": {},
          "execution_count": 108
        }
      ]
    },
    {
      "cell_type": "code",
      "source": [
        "imputed_features['Type_of_vehicle'].value_counts(), rta_data['Day_of_week'].value_counts(), imputed_features['Age_band_of_driver'].value_counts(), imputed_features['Sex_of_driver'].value_counts(), imputed_features['Educational_level'].value_counts(),imputed_features['Vehicle_driver_relation'].value_counts(),imputed_features['Driving_experience'].value_counts(),imputed_features['Owner_of_vehicle'].value_counts(), imputed_features['Service_year_of_vehicle'].value_counts(), imputed_features['Defect_of_vehicle'].value_counts(), imputed_features['Area_accident_occured'].value_counts(),imputed_features['Lanes_or_Medians'].value_counts(), imputed_features['Road_allignment'].value_counts(), imputed_features['Types_of_Junction'].value_counts(),imputed_features['Fitness_of_casuality'].value_counts(), imputed_features['Work_of_casuality'].value_counts(), imputed_features['Vehicle_movement'].value_counts(), imputed_features['Type_of_collision'].value_counts(), imputed_features['Weather_conditions'].value_counts(), imputed_features['Light_conditions'].value_counts(), imputed_features['Road_surface_conditions'].value_counts(), imputed_features['Road_surface_type'].value_counts(), imputed_features['Casualty_class'].value_counts(), imputed_features['Sex_of_casualty'].value_counts(), imputed_features['Age_band_of_casualty'].value_counts(), imputed_features['Casualty_severity'].value_counts(), imputed_features['Pedestrian_movement'].value_counts(), imputed_features['Cause_of_accident'].value_counts()"
      ],
      "metadata": {
        "colab": {
          "base_uri": "https://localhost:8080/"
        },
        "id": "bHmKvriOlMKH",
        "outputId": "0d458831-6918-47f9-8ea0-6752cc77e7d0"
      },
      "execution_count": 109,
      "outputs": [
        {
          "output_type": "execute_result",
          "data": {
            "text/plain": [
              "(Automobile              4155\n",
              " Lorry (41?100Q)         2186\n",
              " Other                   1208\n",
              " Pick up upto 10Q         811\n",
              " Public (12 seats)        711\n",
              " Stationwagen             687\n",
              " Lorry (11?40Q)           541\n",
              " Public (13?45 seats)     532\n",
              " Public (> 45 seats)      404\n",
              " Long lorry               383\n",
              " Taxi                     265\n",
              " Motorcycle               177\n",
              " Special vehicle           84\n",
              " Ridden horse              76\n",
              " Turbo                     46\n",
              " Bajaj                     29\n",
              " Bicycle                   21\n",
              " Name: Type_of_vehicle, dtype: int64, Friday       2041\n",
              " Thursday     1851\n",
              " Wednesday    1840\n",
              " Tuesday      1770\n",
              " Monday       1681\n",
              " Saturday     1666\n",
              " Sunday       1467\n",
              " Name: Day_of_week, dtype: int64, 18-30       4271\n",
              " 31-50       4087\n",
              " Over 51     1585\n",
              " Unknown     1548\n",
              " Under 18     825\n",
              " Name: Age_band_of_driver, dtype: int64, Male       11437\n",
              " Female       701\n",
              " Unknown      178\n",
              " Name: Sex_of_driver, dtype: int64, Junior high school    8360\n",
              " Elementary school     2163\n",
              " High school           1110\n",
              " Above high school      362\n",
              " Writing & reading      176\n",
              " Unknown                100\n",
              " Illiterate              45\n",
              " Name: Educational_level, dtype: int64, Employee    10206\n",
              " Owner        1973\n",
              " Other         123\n",
              " Unknown        14\n",
              " Name: Vehicle_driver_relation, dtype: int64, 5-10yr        4192\n",
              " 2-5yr         2613\n",
              " Above 10yr    2262\n",
              " 1-2yr         1756\n",
              " Below 1yr     1342\n",
              " No Licence     118\n",
              " unknown         33\n",
              " Name: Driving_experience, dtype: int64, Owner           10941\n",
              " Governmental     1041\n",
              " Organization      312\n",
              " Other              22\n",
              " Name: Owner_of_vehicle, dtype: int64, Unknown       6811\n",
              " 2-5yrs        1792\n",
              " Above 10yr    1324\n",
              " 5-10yrs       1280\n",
              " 1-2yr          827\n",
              " Below 1yr      282\n",
              " Name: Service_year_of_vehicle, dtype: int64, No defect    12204\n",
              " 7               76\n",
              " 5               36\n",
              " Name: Defect_of_vehicle, dtype: int64, Other                              4058\n",
              " Office areas                       3451\n",
              " Residential areas                  2060\n",
              "  Church areas                      1060\n",
              "  Industrial areas                   456\n",
              " School areas                        415\n",
              "   Recreational areas                327\n",
              "  Outside rural areas                218\n",
              "  Hospital areas                     121\n",
              "   Market areas                       63\n",
              " Rural village areas                  44\n",
              " Unknown                              22\n",
              " Rural village areasOffice areas      20\n",
              " Recreational areas                    1\n",
              " Name: Area_accident_occured, dtype: int64, Two-way (divided with broken lines road marking)    4796\n",
              " Undivided Two way                                   3796\n",
              " other                                               1660\n",
              " Double carriageway (median)                         1020\n",
              " One way                                              845\n",
              " Two-way (divided with solid lines road marking)      142\n",
              " Unknown                                               57\n",
              " Name: Lanes_or_Medians, dtype: int64, Tangent road with flat terrain                   10601\n",
              " Tangent road with mild grade and flat terrain      501\n",
              " Steep grade downward with mountainous terrain      429\n",
              " Tangent road with mountainous terrain and          396\n",
              " Gentle horizontal curve                            163\n",
              " Escarpments                                        113\n",
              " Sharp reverse curve                                 57\n",
              " Tangent road with rolling terrain                   37\n",
              " Steep grade upward with mountainous terrain         19\n",
              " Name: Road_allignment, dtype: int64, Y Shape        5430\n",
              " No junction    3837\n",
              " Crossing       2177\n",
              " Other           445\n",
              " Unknown         191\n",
              " O Shape         164\n",
              " T Shape          60\n",
              " X Shape          12\n",
              " Name: Types_of_Junction, dtype: int64, Normal          12243\n",
              " NormalNormal       19\n",
              " Deaf               18\n",
              " Other              18\n",
              " Blind              18\n",
              " Name: Fitness_of_casuality, dtype: int64, Driver           9101\n",
              " Self-employed    2044\n",
              " Employee          553\n",
              " Other             463\n",
              " Student           103\n",
              " Unemployed         33\n",
              " Unknown            19\n",
              " Name: Work_of_casuality, dtype: int64, Going straight         8466\n",
              " Moving Backward         985\n",
              " Other                   937\n",
              " Reversing               563\n",
              " Turnover                489\n",
              " Getting off             339\n",
              " Entering a junction     193\n",
              " Overtaking               96\n",
              " Unknown                  88\n",
              " Stopping                 61\n",
              " U-Turn                   50\n",
              " Waiting to go            39\n",
              " Parked                   10\n",
              " Name: Vehicle_movement, dtype: int64, Vehicle with vehicle collision             8929\n",
              " Collision with roadside objects            1786\n",
              " Collision with pedestrians                  896\n",
              " Rollover                                    397\n",
              " Collision with animals                      171\n",
              " Collision with roadside-parked vehicles      54\n",
              " Fall from vehicles                           34\n",
              " Other                                        26\n",
              " Unknown                                      14\n",
              " With Train                                    9\n",
              " Name: Type_of_collision, dtype: int64, Normal               10063\n",
              " Raining               1331\n",
              " Other                  296\n",
              " Unknown                292\n",
              " Cloudy                 125\n",
              " Windy                   98\n",
              " Snow                    61\n",
              " Raining and Windy       40\n",
              " Fog or mist             10\n",
              " Name: Weather_conditions, dtype: int64, Daylight                   8798\n",
              " Darkness - lights lit      3286\n",
              " Darkness - no lighting      192\n",
              " Darkness - lights unlit      40\n",
              " Name: Light_conditions, dtype: int64, Dry                     9340\n",
              " Wet or damp             2904\n",
              " Snow                      70\n",
              " Flood over 3cm. deep       2\n",
              " Name: Road_surface_conditions, dtype: int64, Asphalt roads                       11468\n",
              " Earth roads                           358\n",
              " Gravel roads                          242\n",
              " Other                                 167\n",
              " Asphalt roads with some distress       81\n",
              " Name: Road_surface_type, dtype: int64, Driver or rider    4944\n",
              " na                 4443\n",
              " Pedestrian         1649\n",
              " Passenger          1280\n",
              " Name: Casualty_class, dtype: int64, Male      5253\n",
              " na        4443\n",
              " Female    2620\n",
              " Name: Sex_of_casualty, dtype: int64, na          4443\n",
              " 18-30       3145\n",
              " 31-50       2455\n",
              " Under 18    1035\n",
              " Over 51      994\n",
              " 5            244\n",
              " Name: Age_band_of_casualty, dtype: int64, 3     7076\n",
              " na    4443\n",
              " 2      771\n",
              " 1       26\n",
              " Name: Casualty_severity, dtype: int64, Not a Pedestrian                                                                                                                         11390\n",
              " Crossing from nearside - masked by parked or statioNot a Pedestrianry vehicle                                                              337\n",
              " Unknown or other                                                                                                                           293\n",
              " Crossing from driver's nearside                                                                                                            140\n",
              " Crossing from offside - masked by  parked or statioNot a Pedestrianry vehicle                                                               72\n",
              " In carriageway, statioNot a Pedestrianry - not crossing  (standing or playing)                                                              46\n",
              " Walking along in carriageway, back to traffic                                                                                               18\n",
              " In carriageway, statioNot a Pedestrianry - not crossing  (standing or playing) - masked by parked or statioNot a Pedestrianry vehicle       13\n",
              " Walking along in carriageway, facing traffic                                                                                                 7\n",
              " Name: Pedestrian_movement, dtype: int64, No distancing                           2263\n",
              " Changing lane to the right              1808\n",
              " Changing lane to the left               1473\n",
              " Driving carelessly                      1402\n",
              " No priority to vehicle                  1207\n",
              " Moving Backward                         1137\n",
              " No priority to pedestrian                721\n",
              " Other                                    456\n",
              " Overtaking                               430\n",
              " Driving under the influence of drugs     340\n",
              " Driving to the left                      284\n",
              " Getting off the vehicle improperly       197\n",
              " Driving at high speed                    174\n",
              " Overturning                              149\n",
              " Turnover                                  78\n",
              " Overspeed                                 61\n",
              " Overloading                               59\n",
              " Drunk driving                             27\n",
              " Unknown                                   25\n",
              " Improper parking                          25\n",
              " Name: Cause_of_accident, dtype: int64)"
            ]
          },
          "metadata": {},
          "execution_count": 109
        }
      ]
    },
    {
      "cell_type": "code",
      "source": [
        "imputed_features['Type_of_vehicle'].replace({np.nan: 'unknown'}, inplace=True)\n",
        "imputed_features['Area_accident_occured'].replace({np.nan: 'unknown'}, inplace=True)\n",
        "imputed_features['Road_surface_type'].replace({'na': 0}, inplace=True)\n",
        "imputed_features['Casualty_class'].replace({'na': 0}, inplace=True)\n",
        "imputed_features['Casualty_class'].replace({np.nan: 'unknown'}, inplace=True)\n",
        "imputed_features['Casualty_class'].replace({0: 'unknown'}, inplace=True)\n",
        "\n",
        "imputed_features['Sex_of_casualty'].replace({'na': 0}, inplace=True)\n",
        "# imputed_features['Sex_of_casualty'].replace({np.nan: 'unknown'}, inplace=True)\n",
        "imputed_features['Sex_of_casualty'].replace({0: 'unknown'}, inplace=True)\n",
        "\n",
        "imputed_features['Age_band_of_casualty'].replace({'na': 0}, inplace=True)\n",
        "imputed_features['Age_band_of_casualty'].replace({np.nan: 'unknown'}, inplace=True)\n",
        "imputed_features['Age_band_of_casualty'].replace({0: 'unknown'}, inplace=True)\n",
        "\n",
        "imputed_features['Casualty_severity'].replace({'na': 0}, inplace=True)\n",
        "imputed_features['Casualty_severity'].replace({np.nan: 'unknown'}, inplace=True)\n",
        "imputed_features['Casualty_severity'].replace({0: 'unknown'}, inplace=True)\n",
        "\n",
        "imputed_features['Age_band_of_casualty'].replace({0: 'unknown'}, inplace=True)\n",
        "\n",
        "imputed_features['Pedestrian_movement'].replace({np.nan: 'unknown'}, inplace=True)\n",
        "imputed_features['Cause_of_accident'].replace({np.nan: 'unknown'}, inplace=True)"
      ],
      "metadata": {
        "id": "QSPPh13MvSC2"
      },
      "execution_count": 110,
      "outputs": []
    },
    {
      "cell_type": "code",
      "source": [
        "cat_col_list = ['Type_of_vehicle','Day_of_week','Age_band_of_driver','Sex_of_driver','Educational_level','Vehicle_driver_relation', 'Driving_experience','Owner_of_vehicle','Service_year_of_vehicle','Defect_of_vehicle','Area_accident_occured','Lanes_or_Medians','Road_allignment','Types_of_Junction','Fitness_of_casuality','Work_of_casuality','Vehicle_movement', 'Type_of_collision', 'Weather_conditions','Light_conditions', 'Road_surface_conditions','Road_surface_type','Casualty_class', 'Sex_of_casualty', 'Age_band_of_casualty', 'Casualty_severity','Pedestrian_movement','Cause_of_accident']"
      ],
      "metadata": {
        "execution": {
          "iopub.status.busy": "2022-03-04T20:28:28.001482Z",
          "iopub.execute_input": "2022-03-04T20:28:28.001867Z",
          "iopub.status.idle": "2022-03-04T20:28:28.008815Z",
          "shell.execute_reply.started": "2022-03-04T20:28:28.001808Z",
          "shell.execute_reply": "2022-03-04T20:28:28.008008Z"
        },
        "trusted": true,
        "id": "L8rxQJfFgByY"
      },
      "execution_count": 111,
      "outputs": []
    },
    {
      "cell_type": "code",
      "source": [
        "outputLabel.value_counts()\n",
        "outputLabel = outputLabel.map({'Slight Injury' : 1, 'Serious Injury' : 2 ,'Fatal injury':3})"
      ],
      "metadata": {
        "id": "_d1L-g80wCM9"
      },
      "execution_count": 112,
      "outputs": []
    },
    {
      "cell_type": "code",
      "source": [
        "from sklearn.model_selection import train_test_split\n",
        "X_train_ful, X_test_new, y_train_ful, y_test_new = train_test_split(imputed_features, outputLabel, test_size=0.15, random_state=8675309)"
      ],
      "metadata": {
        "id": "kCJHjBWDvzsr"
      },
      "execution_count": 113,
      "outputs": []
    },
    {
      "cell_type": "code",
      "source": [
        "from sklearn.model_selection import train_test_split\n",
        "X_train_new, X_val, y_train_new, y_val = train_test_split(X_train_ful, y_train_ful, test_size=0.15, random_state=8675309)"
      ],
      "metadata": {
        "id": "6AS6d9olwRUv"
      },
      "execution_count": 114,
      "outputs": []
    },
    {
      "cell_type": "code",
      "source": [
        "# imputed_features_new = imputed_features.drop([\"Time\",'Sex_of_driver','Vehicle_driver_relation','Area_accident_occured','Road_surface_conditions','Light_conditions','Lanes_or_Medians','Fitness_of_casuality','Types_of_Junction','Vehicle_movement','Pedestrian_movement','Casualty_class','Sex_of_casualty','Age_band_of_casualty'], axis=1)"
      ],
      "metadata": {
        "id": "lYBw7EBnwvmN"
      },
      "execution_count": 115,
      "outputs": []
    },
    {
      "cell_type": "code",
      "source": [
        "# prepare input data\n",
        "def prepare_inputs(X_train_new, X_val, X_test_new):\n",
        "    for cat_col in cat_col_list:\n",
        "      oe = LabelEncoder()\n",
        "      print(cat_col)\n",
        "      oe.fit(X_train_new[cat_col])\n",
        "      X_train_new[cat_col] = oe.transform(X_train_new[cat_col])\n",
        "      X_val[cat_col] = oe.transform(X_val[cat_col])\n",
        "      X_test_new[cat_col] = oe.transform(X_test_new[cat_col])"
      ],
      "metadata": {
        "execution": {
          "iopub.status.busy": "2022-03-04T20:28:28.038279Z",
          "iopub.execute_input": "2022-03-04T20:28:28.038674Z",
          "iopub.status.idle": "2022-03-04T20:28:28.047685Z",
          "shell.execute_reply.started": "2022-03-04T20:28:28.038640Z",
          "shell.execute_reply": "2022-03-04T20:28:28.047050Z"
        },
        "trusted": true,
        "id": "ToaMJlCMgByb"
      },
      "execution_count": 116,
      "outputs": []
    },
    {
      "cell_type": "code",
      "source": [
        "prepare_inputs(X_train_new, X_val, X_test_new)"
      ],
      "metadata": {
        "execution": {
          "iopub.status.busy": "2022-03-04T20:28:28.640847Z",
          "iopub.execute_input": "2022-03-04T20:28:28.642298Z",
          "iopub.status.idle": "2022-03-04T20:28:28.649428Z",
          "shell.execute_reply.started": "2022-03-04T20:28:28.642255Z",
          "shell.execute_reply": "2022-03-04T20:28:28.648632Z"
        },
        "trusted": true,
        "colab": {
          "base_uri": "https://localhost:8080/"
        },
        "id": "ADZa2NAlgBys",
        "outputId": "67a97fdd-ff9d-4778-e63b-b1f4ba45a324"
      },
      "execution_count": 117,
      "outputs": [
        {
          "output_type": "stream",
          "name": "stdout",
          "text": [
            "Type_of_vehicle\n",
            "Day_of_week\n",
            "Age_band_of_driver\n",
            "Sex_of_driver\n",
            "Educational_level\n",
            "Vehicle_driver_relation\n",
            "Driving_experience\n",
            "Owner_of_vehicle\n",
            "Service_year_of_vehicle\n",
            "Defect_of_vehicle\n",
            "Area_accident_occured\n",
            "Lanes_or_Medians\n",
            "Road_allignment\n",
            "Types_of_Junction\n",
            "Fitness_of_casuality\n",
            "Work_of_casuality\n",
            "Vehicle_movement\n",
            "Type_of_collision\n",
            "Weather_conditions\n",
            "Light_conditions\n",
            "Road_surface_conditions\n",
            "Road_surface_type\n",
            "Casualty_class\n",
            "Sex_of_casualty\n",
            "Age_band_of_casualty\n",
            "Casualty_severity\n",
            "Pedestrian_movement\n",
            "Cause_of_accident\n"
          ]
        }
      ]
    },
    {
      "cell_type": "code",
      "source": [
        "from sklearn.linear_model import LogisticRegression\n",
        "from sklearn.neighbors import KNeighborsClassifier\n",
        "from sklearn.svm import SVC\n",
        "from sklearn.ensemble import RandomForestClassifier\n",
        "from sklearn.naive_bayes import GaussianNB\n",
        "from xgboost import XGBClassifier\n",
        "from sklearn import model_selection\n",
        "from sklearn.utils import class_weight\n",
        "from sklearn.metrics import classification_report\n",
        "from sklearn.metrics import confusion_matrix"
      ],
      "metadata": {
        "execution": {
          "iopub.status.busy": "2022-03-04T20:28:29.296006Z",
          "iopub.execute_input": "2022-03-04T20:28:29.296772Z",
          "iopub.status.idle": "2022-03-04T20:28:29.338873Z",
          "shell.execute_reply.started": "2022-03-04T20:28:29.296726Z",
          "shell.execute_reply": "2022-03-04T20:28:29.337917Z"
        },
        "trusted": true,
        "id": "w96wU3I-gByz"
      },
      "execution_count": 118,
      "outputs": []
    },
    {
      "cell_type": "code",
      "source": [
        "def run_exps(X_train: pd.DataFrame , y_train: pd.DataFrame, X_test: pd.DataFrame, y_test: pd.DataFrame, outputLabel) -> pd.DataFrame:\n",
        "    '''\n",
        "    Lightweight script to test many models and find winners\n",
        "    :param X_train: training split\n",
        "    :param y_train: training target vector\n",
        "    :param X_test: test split\n",
        "    :param y_test: test target vector\n",
        "    :return: DataFrame of predictions\n",
        "    '''    \n",
        "    dfs = []\n",
        "    models = [\n",
        "              ('LogReg', LogisticRegression(solver='liblinear')), \n",
        "              ('RF', RandomForestClassifier()),\n",
        "              ('KNN', KNeighborsClassifier()), \n",
        "              ('GNB', GaussianNB()),\n",
        "              ('XGB', XGBClassifier())\n",
        "            ]\n",
        "\n",
        "    results = []\n",
        "    names = []\n",
        "    scoring = ['accuracy', 'precision_weighted', 'recall_weighted', 'f1_weighted']\n",
        "    target_names = ['Slight Injury','Serious Injury','Fatal injury']\n",
        "    for name, model in models:\n",
        "        kfold = model_selection.KFold(n_splits=5, shuffle=True, random_state=90210)\n",
        "        cv_results = model_selection.cross_validate(model, X_train, y_train, cv=kfold, scoring=scoring)\n",
        "        clf = model.fit(X_train, y_train)\n",
        "        y_pred = clf.predict(X_test)\n",
        "        y_probas = model.predict_proba(X_test)\n",
        "        #   importances = model.feature_importances_\n",
        "\n",
        "        print(name)\n",
        "        print(classification_report(y_test, y_pred, target_names=target_names))\n",
        "        run = wandb.init(project='my-scikit-integration', name=name)\n",
        "        wandb.sklearn.plot_classifier(model, \n",
        "                              X_train, X_test, \n",
        "                              y_train, y_test, \n",
        "                              y_pred, y_probas, \n",
        "                              outputLabel, \n",
        "                              is_binary=True, \n",
        "                              model_name=name)\n",
        "\n",
        "        wandb.finish()\n",
        "#         print(confusion_matrix(y_test, y_pred, labels=target_names))\n",
        "\n",
        "    # results.append(cv_results)\n",
        "    # names.append(name)\n",
        "    # this_df = pd.DataFrame(cv_results)\n",
        "    # this_df['model'] = name\n",
        "    # dfs.append(this_df)\n",
        "    # final = pd.concat(dfs, ignore_index=True)\n",
        "    # return final"
      ],
      "metadata": {
        "execution": {
          "iopub.status.busy": "2022-03-04T20:28:29.340121Z",
          "iopub.execute_input": "2022-03-04T20:28:29.340369Z",
          "iopub.status.idle": "2022-03-04T20:28:29.350127Z",
          "shell.execute_reply.started": "2022-03-04T20:28:29.340338Z",
          "shell.execute_reply": "2022-03-04T20:28:29.349414Z"
        },
        "trusted": true,
        "id": "HVBWOgvsgBy0"
      },
      "execution_count": 128,
      "outputs": []
    },
    {
      "cell_type": "code",
      "source": [
        "X_train_new.drop([\"Time\"], inplace=True, axis=1)\n",
        "X_val.drop([\"Time\"], inplace=True, axis=1)\n",
        "X_test_new.drop([\"Time\"], inplace=True, axis=1)\n"
      ],
      "metadata": {
        "id": "f53vWyYL1txd"
      },
      "execution_count": 120,
      "outputs": []
    },
    {
      "cell_type": "code",
      "source": [
        "X_train_new = X_train_new.astype(int)\n",
        "X_val = X_val.astype(int)\n",
        "X_test_new = X_test_new.astype(int)"
      ],
      "metadata": {
        "id": "JoxOVe1M_Np7"
      },
      "execution_count": 138,
      "outputs": []
    },
    {
      "cell_type": "code",
      "source": [
        "run_exps(X_train_new, y_train_new, X_val, y_val, outputLabel)"
      ],
      "metadata": {
        "execution": {
          "iopub.status.busy": "2022-03-04T20:28:29.447350Z",
          "iopub.execute_input": "2022-03-04T20:28:29.448119Z",
          "iopub.status.idle": "2022-03-04T20:29:20.860447Z",
          "shell.execute_reply.started": "2022-03-04T20:28:29.448067Z",
          "shell.execute_reply": "2022-03-04T20:29:20.859547Z"
        },
        "trusted": true,
        "colab": {
          "base_uri": "https://localhost:8080/",
          "height": 1000,
          "referenced_widgets": [
            "3ff8a825e36a43fbb06cc6af403fcca0",
            "b3fb90edaf6846009e7086a4b05db6ed",
            "2017e78927de4d55871f52c8e9112d19",
            "07bedfb321dd4a13ac8fceb3aedbdbe8",
            "ed4a89b2e0954ff49f93c26aa16f02b0",
            "f86cd696fe934fef9c36b886a7973484",
            "7449dde5e40d4149872736e933d69146",
            "4de25377cc1a4985b9ed8837d1735ba3",
            "9fe36798997847848d87cc42438d8d23",
            "936ce90509ec40639ecf2099a77d1ea8",
            "896d2487c35d45bba707359bf09e34bb",
            "a1a7b78a0ab74cceb60a323f55171047",
            "75b71d462da84dfbb96b6c7bd83720f5",
            "4d73384850474be7a29dfb0618f3706d",
            "96a97e48722842a28bc2ea56a442477d",
            "7d19e5eab42d4494b1019a1701a440fa",
            "29c125f7e61b43e7af4e5e417e3f1944",
            "c712ab0392584f47be1671f319f9e737",
            "659e7450787c484dada83bbea9976a61",
            "abd461bd6bb0446190a8753b46b3e9e3",
            "f32f566a867c45d999d3343accf720e1",
            "22c88367f88d484790225f38ed4a0b0c",
            "b0e107621d924bef9ac66582ce0a14f8",
            "e12b521a10f944f28a386ed84bb8c8de",
            "d83c2a34d81a42c7bce0c1e79adf9c81",
            "254b3ea1a29e43e2ab16fee41f72625d",
            "22c6312f27d041d086d342cb2c677b50",
            "1f6fa68a5bce4169833444327513c86f",
            "a5c35fdf9e6441098741b26eb5409f72",
            "4564d55d6e6e419496859f61f4ac733a",
            "f942f3a873e046fdb99a7005467fcb0d",
            "f58fe54319e146a8a04bdb0fe5074f09",
            "7aabf13954a74de18b6f936f0d2ae7c6",
            "8ede450705994c69a1e59477fe086ba3",
            "0c45d835381644f8977f339947b543e0",
            "dd23f8b1992d4db68cbe3613990d38bf",
            "149b932fc9134214b97fb89a19d5d73d",
            "21bfb3863662419794618cf16004865f",
            "b9cbdd92e5e546ec90bd626da54c8408",
            "68d266d6839a47e6b1abe197aa9c1130"
          ]
        },
        "id": "FRhFHjiOgBy1",
        "outputId": "482bfd02-b96b-4323-c1ad-f372814c23ff"
      },
      "execution_count": 139,
      "outputs": [
        {
          "output_type": "stream",
          "name": "stderr",
          "text": [
            "/usr/local/lib/python3.7/dist-packages/sklearn/metrics/_classification.py:1318: UndefinedMetricWarning: Precision is ill-defined and being set to 0.0 in labels with no predicted samples. Use `zero_division` parameter to control this behavior.\n",
            "  _warn_prf(average, modifier, msg_start, len(result))\n",
            "/usr/local/lib/python3.7/dist-packages/sklearn/metrics/_classification.py:1318: UndefinedMetricWarning: Precision is ill-defined and being set to 0.0 in labels with no predicted samples. Use `zero_division` parameter to control this behavior.\n",
            "  _warn_prf(average, modifier, msg_start, len(result))\n",
            "/usr/local/lib/python3.7/dist-packages/sklearn/metrics/_classification.py:1318: UndefinedMetricWarning: Precision is ill-defined and being set to 0.0 in labels with no predicted samples. Use `zero_division` parameter to control this behavior.\n",
            "  _warn_prf(average, modifier, msg_start, len(result))\n",
            "/usr/local/lib/python3.7/dist-packages/sklearn/metrics/_classification.py:1318: UndefinedMetricWarning: Precision is ill-defined and being set to 0.0 in labels with no predicted samples. Use `zero_division` parameter to control this behavior.\n",
            "  _warn_prf(average, modifier, msg_start, len(result))\n",
            "/usr/local/lib/python3.7/dist-packages/sklearn/metrics/_classification.py:1318: UndefinedMetricWarning: Precision is ill-defined and being set to 0.0 in labels with no predicted samples. Use `zero_division` parameter to control this behavior.\n",
            "  _warn_prf(average, modifier, msg_start, len(result))\n"
          ]
        },
        {
          "output_type": "stream",
          "name": "stdout",
          "text": [
            "LogReg\n",
            "                precision    recall  f1-score   support\n",
            "\n",
            " Slight Injury       0.84      1.00      0.91      1312\n",
            "Serious Injury       0.00      0.00      0.00       234\n",
            "  Fatal injury       0.00      0.00      0.00        25\n",
            "\n",
            "      accuracy                           0.84      1571\n",
            "     macro avg       0.28      0.33      0.30      1571\n",
            "  weighted avg       0.70      0.84      0.76      1571\n",
            "\n"
          ]
        },
        {
          "output_type": "stream",
          "name": "stderr",
          "text": [
            "/usr/local/lib/python3.7/dist-packages/sklearn/metrics/_classification.py:1318: UndefinedMetricWarning: Precision and F-score are ill-defined and being set to 0.0 in labels with no predicted samples. Use `zero_division` parameter to control this behavior.\n",
            "  _warn_prf(average, modifier, msg_start, len(result))\n",
            "/usr/local/lib/python3.7/dist-packages/sklearn/metrics/_classification.py:1318: UndefinedMetricWarning: Precision and F-score are ill-defined and being set to 0.0 in labels with no predicted samples. Use `zero_division` parameter to control this behavior.\n",
            "  _warn_prf(average, modifier, msg_start, len(result))\n",
            "/usr/local/lib/python3.7/dist-packages/sklearn/metrics/_classification.py:1318: UndefinedMetricWarning: Precision and F-score are ill-defined and being set to 0.0 in labels with no predicted samples. Use `zero_division` parameter to control this behavior.\n",
            "  _warn_prf(average, modifier, msg_start, len(result))\n"
          ]
        },
        {
          "output_type": "display_data",
          "data": {
            "text/plain": [
              "<IPython.core.display.HTML object>"
            ],
            "text/html": [
              "Tracking run with wandb version 0.12.11"
            ]
          },
          "metadata": {}
        },
        {
          "output_type": "display_data",
          "data": {
            "text/plain": [
              "<IPython.core.display.HTML object>"
            ],
            "text/html": [
              "Run data is saved locally in <code>/content/wandb/run-20220403_055443-j3bazd59</code>"
            ]
          },
          "metadata": {}
        },
        {
          "output_type": "display_data",
          "data": {
            "text/plain": [
              "<IPython.core.display.HTML object>"
            ],
            "text/html": [
              "Syncing run <strong><a href=\"https://wandb.ai/sndpkirwai/my-scikit-integration/runs/j3bazd59\" target=\"_blank\">LogReg</a></strong> to <a href=\"https://wandb.ai/sndpkirwai/my-scikit-integration\" target=\"_blank\">Weights & Biases</a> (<a href=\"https://wandb.me/run\" target=\"_blank\">docs</a>)<br/>"
            ]
          },
          "metadata": {}
        },
        {
          "output_type": "stream",
          "name": "stderr",
          "text": [
            "\u001b[34m\u001b[1mwandb\u001b[0m: \n",
            "\u001b[34m\u001b[1mwandb\u001b[0m: Plotting LogReg.\n",
            "/usr/local/lib/python3.7/dist-packages/sklearn/base.py:451: UserWarning: X does not have valid feature names, but LogisticRegression was fitted with feature names\n",
            "  \"X does not have valid feature names, but\"\n",
            "\u001b[34m\u001b[1mwandb\u001b[0m: \u001b[33mWARNING\u001b[0m 2-dimensional feature importances array passed to plot_feature_importances. 2-dimensional and higher feature importances arrays are not currently supported. These importances will not be plotted.\n",
            "\u001b[34m\u001b[1mwandb\u001b[0m: Logged feature importances.\n",
            "\u001b[34m\u001b[1mwandb\u001b[0m: Logged confusion matrix.\n",
            "/usr/local/lib/python3.7/dist-packages/sklearn/base.py:451: UserWarning: X does not have valid feature names, but LogisticRegression was fitted with feature names\n",
            "  \"X does not have valid feature names, but\"\n",
            "/usr/local/lib/python3.7/dist-packages/sklearn/metrics/_classification.py:1318: UndefinedMetricWarning: Precision is ill-defined and being set to 0.0 in labels with no predicted samples. Use `zero_division` parameter to control this behavior.\n",
            "  _warn_prf(average, modifier, msg_start, len(result))\n",
            "\u001b[34m\u001b[1mwandb\u001b[0m: Logged summary metrics.\n",
            "\u001b[34m\u001b[1mwandb\u001b[0m: Logged class proportions.\n",
            "/usr/local/lib/python3.7/dist-packages/sklearn/base.py:451: UserWarning: X does not have valid feature names, but LogisticRegression was fitted with feature names\n",
            "  \"X does not have valid feature names, but\"\n",
            "\u001b[34m\u001b[1mwandb\u001b[0m: \u001b[33mWARNING\u001b[0m This function only supports binary classification at the moment and therefore expects labels to be binary. Skipping calibration curve.\n",
            "\u001b[34m\u001b[1mwandb\u001b[0m: Logged calibration curve.\n",
            "\u001b[34m\u001b[1mwandb\u001b[0m: Logged roc curve.\n",
            "\u001b[34m\u001b[1mwandb\u001b[0m: Logged precision-recall curve.\n"
          ]
        },
        {
          "output_type": "stream",
          "name": "stdout",
          "text": [
            "\n"
          ]
        },
        {
          "output_type": "display_data",
          "data": {
            "text/plain": [
              "<IPython.core.display.HTML object>"
            ],
            "text/html": [
              "Waiting for W&B process to finish... <strong style=\"color:green\">(success).</strong>"
            ]
          },
          "metadata": {}
        },
        {
          "output_type": "display_data",
          "data": {
            "text/plain": [
              "VBox(children=(Label(value='0.035 MB of 0.035 MB uploaded (0.000 MB deduped)\\r'), FloatProgress(value=1.0, max…"
            ],
            "application/vnd.jupyter.widget-view+json": {
              "version_major": 2,
              "version_minor": 0,
              "model_id": "3ff8a825e36a43fbb06cc6af403fcca0"
            }
          },
          "metadata": {}
        },
        {
          "output_type": "display_data",
          "data": {
            "text/plain": [
              "<IPython.core.display.HTML object>"
            ],
            "text/html": [
              "Synced <strong style=\"color:#cdcd00\">LogReg</strong>: <a href=\"https://wandb.ai/sndpkirwai/my-scikit-integration/runs/j3bazd59\" target=\"_blank\">https://wandb.ai/sndpkirwai/my-scikit-integration/runs/j3bazd59</a><br/>Synced 5 W&B file(s), 5 media file(s), 5 artifact file(s) and 0 other file(s)"
            ]
          },
          "metadata": {}
        },
        {
          "output_type": "display_data",
          "data": {
            "text/plain": [
              "<IPython.core.display.HTML object>"
            ],
            "text/html": [
              "Find logs at: <code>./wandb/run-20220403_055443-j3bazd59/logs</code>"
            ]
          },
          "metadata": {}
        },
        {
          "output_type": "stream",
          "name": "stderr",
          "text": [
            "/usr/local/lib/python3.7/dist-packages/sklearn/metrics/_classification.py:1318: UndefinedMetricWarning: Precision is ill-defined and being set to 0.0 in labels with no predicted samples. Use `zero_division` parameter to control this behavior.\n",
            "  _warn_prf(average, modifier, msg_start, len(result))\n",
            "/usr/local/lib/python3.7/dist-packages/sklearn/metrics/_classification.py:1318: UndefinedMetricWarning: Precision is ill-defined and being set to 0.0 in labels with no predicted samples. Use `zero_division` parameter to control this behavior.\n",
            "  _warn_prf(average, modifier, msg_start, len(result))\n",
            "/usr/local/lib/python3.7/dist-packages/sklearn/metrics/_classification.py:1318: UndefinedMetricWarning: Precision is ill-defined and being set to 0.0 in labels with no predicted samples. Use `zero_division` parameter to control this behavior.\n",
            "  _warn_prf(average, modifier, msg_start, len(result))\n",
            "/usr/local/lib/python3.7/dist-packages/sklearn/metrics/_classification.py:1318: UndefinedMetricWarning: Precision is ill-defined and being set to 0.0 in labels with no predicted samples. Use `zero_division` parameter to control this behavior.\n",
            "  _warn_prf(average, modifier, msg_start, len(result))\n",
            "/usr/local/lib/python3.7/dist-packages/sklearn/metrics/_classification.py:1318: UndefinedMetricWarning: Precision is ill-defined and being set to 0.0 in labels with no predicted samples. Use `zero_division` parameter to control this behavior.\n",
            "  _warn_prf(average, modifier, msg_start, len(result))\n"
          ]
        },
        {
          "output_type": "stream",
          "name": "stdout",
          "text": [
            "RF\n",
            "                precision    recall  f1-score   support\n",
            "\n",
            " Slight Injury       0.84      1.00      0.91      1312\n",
            "Serious Injury       0.60      0.01      0.03       234\n",
            "  Fatal injury       0.00      0.00      0.00        25\n",
            "\n",
            "      accuracy                           0.84      1571\n",
            "     macro avg       0.48      0.34      0.31      1571\n",
            "  weighted avg       0.79      0.84      0.76      1571\n",
            "\n"
          ]
        },
        {
          "output_type": "stream",
          "name": "stderr",
          "text": [
            "/usr/local/lib/python3.7/dist-packages/sklearn/metrics/_classification.py:1318: UndefinedMetricWarning: Precision and F-score are ill-defined and being set to 0.0 in labels with no predicted samples. Use `zero_division` parameter to control this behavior.\n",
            "  _warn_prf(average, modifier, msg_start, len(result))\n",
            "/usr/local/lib/python3.7/dist-packages/sklearn/metrics/_classification.py:1318: UndefinedMetricWarning: Precision and F-score are ill-defined and being set to 0.0 in labels with no predicted samples. Use `zero_division` parameter to control this behavior.\n",
            "  _warn_prf(average, modifier, msg_start, len(result))\n",
            "/usr/local/lib/python3.7/dist-packages/sklearn/metrics/_classification.py:1318: UndefinedMetricWarning: Precision and F-score are ill-defined and being set to 0.0 in labels with no predicted samples. Use `zero_division` parameter to control this behavior.\n",
            "  _warn_prf(average, modifier, msg_start, len(result))\n"
          ]
        },
        {
          "output_type": "display_data",
          "data": {
            "text/plain": [
              "<IPython.core.display.HTML object>"
            ],
            "text/html": [
              "Tracking run with wandb version 0.12.11"
            ]
          },
          "metadata": {}
        },
        {
          "output_type": "display_data",
          "data": {
            "text/plain": [
              "<IPython.core.display.HTML object>"
            ],
            "text/html": [
              "Run data is saved locally in <code>/content/wandb/run-20220403_055504-1nyftie3</code>"
            ]
          },
          "metadata": {}
        },
        {
          "output_type": "display_data",
          "data": {
            "text/plain": [
              "<IPython.core.display.HTML object>"
            ],
            "text/html": [
              "Syncing run <strong><a href=\"https://wandb.ai/sndpkirwai/my-scikit-integration/runs/1nyftie3\" target=\"_blank\">RF</a></strong> to <a href=\"https://wandb.ai/sndpkirwai/my-scikit-integration\" target=\"_blank\">Weights & Biases</a> (<a href=\"https://wandb.me/run\" target=\"_blank\">docs</a>)<br/>"
            ]
          },
          "metadata": {}
        },
        {
          "output_type": "stream",
          "name": "stderr",
          "text": [
            "\u001b[34m\u001b[1mwandb\u001b[0m: \n",
            "\u001b[34m\u001b[1mwandb\u001b[0m: Plotting RF.\n",
            "/usr/local/lib/python3.7/dist-packages/sklearn/base.py:451: UserWarning: X does not have valid feature names, but RandomForestClassifier was fitted with feature names\n",
            "  \"X does not have valid feature names, but\"\n",
            "\u001b[34m\u001b[1mwandb\u001b[0m: Logged feature importances.\n",
            "\u001b[34m\u001b[1mwandb\u001b[0m: Logged confusion matrix.\n",
            "/usr/local/lib/python3.7/dist-packages/sklearn/base.py:451: UserWarning: X does not have valid feature names, but RandomForestClassifier was fitted with feature names\n",
            "  \"X does not have valid feature names, but\"\n",
            "/usr/local/lib/python3.7/dist-packages/sklearn/metrics/_classification.py:1318: UndefinedMetricWarning: Precision is ill-defined and being set to 0.0 in labels with no predicted samples. Use `zero_division` parameter to control this behavior.\n",
            "  _warn_prf(average, modifier, msg_start, len(result))\n",
            "\u001b[34m\u001b[1mwandb\u001b[0m: Logged summary metrics.\n",
            "\u001b[34m\u001b[1mwandb\u001b[0m: Logged class proportions.\n",
            "/usr/local/lib/python3.7/dist-packages/sklearn/base.py:451: UserWarning: X does not have valid feature names, but RandomForestClassifier was fitted with feature names\n",
            "  \"X does not have valid feature names, but\"\n",
            "\u001b[34m\u001b[1mwandb\u001b[0m: \u001b[33mWARNING\u001b[0m This function only supports binary classification at the moment and therefore expects labels to be binary. Skipping calibration curve.\n",
            "\u001b[34m\u001b[1mwandb\u001b[0m: Logged calibration curve.\n",
            "\u001b[34m\u001b[1mwandb\u001b[0m: Logged roc curve.\n",
            "\u001b[34m\u001b[1mwandb\u001b[0m: Logged precision-recall curve.\n"
          ]
        },
        {
          "output_type": "stream",
          "name": "stdout",
          "text": [
            "\n"
          ]
        },
        {
          "output_type": "display_data",
          "data": {
            "text/plain": [
              "<IPython.core.display.HTML object>"
            ],
            "text/html": [
              "Waiting for W&B process to finish... <strong style=\"color:green\">(success).</strong>"
            ]
          },
          "metadata": {}
        },
        {
          "output_type": "display_data",
          "data": {
            "text/plain": [
              "VBox(children=(Label(value='0.011 MB of 0.012 MB uploaded (0.000 MB deduped)\\r'), FloatProgress(value=0.911494…"
            ],
            "application/vnd.jupyter.widget-view+json": {
              "version_major": 2,
              "version_minor": 0,
              "model_id": "9fe36798997847848d87cc42438d8d23"
            }
          },
          "metadata": {}
        },
        {
          "output_type": "display_data",
          "data": {
            "text/plain": [
              "<IPython.core.display.HTML object>"
            ],
            "text/html": [
              "Synced <strong style=\"color:#cdcd00\">RF</strong>: <a href=\"https://wandb.ai/sndpkirwai/my-scikit-integration/runs/1nyftie3\" target=\"_blank\">https://wandb.ai/sndpkirwai/my-scikit-integration/runs/1nyftie3</a><br/>Synced 5 W&B file(s), 6 media file(s), 6 artifact file(s) and 0 other file(s)"
            ]
          },
          "metadata": {}
        },
        {
          "output_type": "display_data",
          "data": {
            "text/plain": [
              "<IPython.core.display.HTML object>"
            ],
            "text/html": [
              "Find logs at: <code>./wandb/run-20220403_055504-1nyftie3/logs</code>"
            ]
          },
          "metadata": {}
        },
        {
          "output_type": "stream",
          "name": "stderr",
          "text": [
            "/usr/local/lib/python3.7/dist-packages/sklearn/metrics/_classification.py:1318: UndefinedMetricWarning: Precision is ill-defined and being set to 0.0 in labels with no predicted samples. Use `zero_division` parameter to control this behavior.\n",
            "  _warn_prf(average, modifier, msg_start, len(result))\n",
            "/usr/local/lib/python3.7/dist-packages/sklearn/metrics/_classification.py:1318: UndefinedMetricWarning: Precision is ill-defined and being set to 0.0 in labels with no predicted samples. Use `zero_division` parameter to control this behavior.\n",
            "  _warn_prf(average, modifier, msg_start, len(result))\n",
            "/usr/local/lib/python3.7/dist-packages/sklearn/metrics/_classification.py:1318: UndefinedMetricWarning: Precision is ill-defined and being set to 0.0 in labels with no predicted samples. Use `zero_division` parameter to control this behavior.\n",
            "  _warn_prf(average, modifier, msg_start, len(result))\n",
            "/usr/local/lib/python3.7/dist-packages/sklearn/metrics/_classification.py:1318: UndefinedMetricWarning: Precision is ill-defined and being set to 0.0 in labels with no predicted samples. Use `zero_division` parameter to control this behavior.\n",
            "  _warn_prf(average, modifier, msg_start, len(result))\n",
            "/usr/local/lib/python3.7/dist-packages/sklearn/metrics/_classification.py:1318: UndefinedMetricWarning: Precision is ill-defined and being set to 0.0 in labels with no predicted samples. Use `zero_division` parameter to control this behavior.\n",
            "  _warn_prf(average, modifier, msg_start, len(result))\n"
          ]
        },
        {
          "output_type": "stream",
          "name": "stdout",
          "text": [
            "KNN\n",
            "                precision    recall  f1-score   support\n",
            "\n",
            " Slight Injury       0.84      0.98      0.90      1312\n",
            "Serious Injury       0.14      0.02      0.03       234\n",
            "  Fatal injury       0.00      0.00      0.00        25\n",
            "\n",
            "      accuracy                           0.82      1571\n",
            "     macro avg       0.32      0.33      0.31      1571\n",
            "  weighted avg       0.72      0.82      0.76      1571\n",
            "\n"
          ]
        },
        {
          "output_type": "stream",
          "name": "stderr",
          "text": [
            "/usr/local/lib/python3.7/dist-packages/sklearn/metrics/_classification.py:1318: UndefinedMetricWarning: Precision and F-score are ill-defined and being set to 0.0 in labels with no predicted samples. Use `zero_division` parameter to control this behavior.\n",
            "  _warn_prf(average, modifier, msg_start, len(result))\n",
            "/usr/local/lib/python3.7/dist-packages/sklearn/metrics/_classification.py:1318: UndefinedMetricWarning: Precision and F-score are ill-defined and being set to 0.0 in labels with no predicted samples. Use `zero_division` parameter to control this behavior.\n",
            "  _warn_prf(average, modifier, msg_start, len(result))\n",
            "/usr/local/lib/python3.7/dist-packages/sklearn/metrics/_classification.py:1318: UndefinedMetricWarning: Precision and F-score are ill-defined and being set to 0.0 in labels with no predicted samples. Use `zero_division` parameter to control this behavior.\n",
            "  _warn_prf(average, modifier, msg_start, len(result))\n"
          ]
        },
        {
          "output_type": "display_data",
          "data": {
            "text/plain": [
              "<IPython.core.display.HTML object>"
            ],
            "text/html": [
              "Tracking run with wandb version 0.12.11"
            ]
          },
          "metadata": {}
        },
        {
          "output_type": "display_data",
          "data": {
            "text/plain": [
              "<IPython.core.display.HTML object>"
            ],
            "text/html": [
              "Run data is saved locally in <code>/content/wandb/run-20220403_055522-2e7tpkcn</code>"
            ]
          },
          "metadata": {}
        },
        {
          "output_type": "display_data",
          "data": {
            "text/plain": [
              "<IPython.core.display.HTML object>"
            ],
            "text/html": [
              "Syncing run <strong><a href=\"https://wandb.ai/sndpkirwai/my-scikit-integration/runs/2e7tpkcn\" target=\"_blank\">KNN</a></strong> to <a href=\"https://wandb.ai/sndpkirwai/my-scikit-integration\" target=\"_blank\">Weights & Biases</a> (<a href=\"https://wandb.me/run\" target=\"_blank\">docs</a>)<br/>"
            ]
          },
          "metadata": {}
        },
        {
          "output_type": "stream",
          "name": "stderr",
          "text": [
            "\u001b[34m\u001b[1mwandb\u001b[0m: \n",
            "\u001b[34m\u001b[1mwandb\u001b[0m: Plotting KNN.\n",
            "/usr/local/lib/python3.7/dist-packages/sklearn/base.py:451: UserWarning: X does not have valid feature names, but KNeighborsClassifier was fitted with feature names\n",
            "  \"X does not have valid feature names, but\"\n",
            "\u001b[34m\u001b[1mwandb\u001b[0m: \u001b[33mWARNING\u001b[0m could not find any of attributes feature_importances_, feature_log_prob_, coef_ on classifier. Cannot plot feature importances.\n",
            "\u001b[34m\u001b[1mwandb\u001b[0m: Logged feature importances.\n",
            "\u001b[34m\u001b[1mwandb\u001b[0m: Logged confusion matrix.\n",
            "/usr/local/lib/python3.7/dist-packages/sklearn/base.py:451: UserWarning: X does not have valid feature names, but KNeighborsClassifier was fitted with feature names\n",
            "  \"X does not have valid feature names, but\"\n",
            "/usr/local/lib/python3.7/dist-packages/sklearn/metrics/_classification.py:1318: UndefinedMetricWarning: Precision is ill-defined and being set to 0.0 in labels with no predicted samples. Use `zero_division` parameter to control this behavior.\n",
            "  _warn_prf(average, modifier, msg_start, len(result))\n",
            "\u001b[34m\u001b[1mwandb\u001b[0m: Logged summary metrics.\n",
            "\u001b[34m\u001b[1mwandb\u001b[0m: Logged class proportions.\n",
            "/usr/local/lib/python3.7/dist-packages/sklearn/base.py:451: UserWarning: X does not have valid feature names, but KNeighborsClassifier was fitted with feature names\n",
            "  \"X does not have valid feature names, but\"\n",
            "\u001b[34m\u001b[1mwandb\u001b[0m: \u001b[33mWARNING\u001b[0m This function only supports binary classification at the moment and therefore expects labels to be binary. Skipping calibration curve.\n",
            "\u001b[34m\u001b[1mwandb\u001b[0m: Logged calibration curve.\n",
            "\u001b[34m\u001b[1mwandb\u001b[0m: Logged roc curve.\n",
            "\u001b[34m\u001b[1mwandb\u001b[0m: Logged precision-recall curve.\n"
          ]
        },
        {
          "output_type": "stream",
          "name": "stdout",
          "text": [
            "\n"
          ]
        },
        {
          "output_type": "display_data",
          "data": {
            "text/plain": [
              "<IPython.core.display.HTML object>"
            ],
            "text/html": [
              "Waiting for W&B process to finish... <strong style=\"color:green\">(success).</strong>"
            ]
          },
          "metadata": {}
        },
        {
          "output_type": "display_data",
          "data": {
            "text/plain": [
              "VBox(children=(Label(value='0.006 MB of 0.007 MB uploaded (0.000 MB deduped)\\r'), FloatProgress(value=0.842181…"
            ],
            "application/vnd.jupyter.widget-view+json": {
              "version_major": 2,
              "version_minor": 0,
              "model_id": "29c125f7e61b43e7af4e5e417e3f1944"
            }
          },
          "metadata": {}
        },
        {
          "output_type": "display_data",
          "data": {
            "text/plain": [
              "<IPython.core.display.HTML object>"
            ],
            "text/html": [
              "Synced <strong style=\"color:#cdcd00\">KNN</strong>: <a href=\"https://wandb.ai/sndpkirwai/my-scikit-integration/runs/2e7tpkcn\" target=\"_blank\">https://wandb.ai/sndpkirwai/my-scikit-integration/runs/2e7tpkcn</a><br/>Synced 5 W&B file(s), 5 media file(s), 5 artifact file(s) and 0 other file(s)"
            ]
          },
          "metadata": {}
        },
        {
          "output_type": "display_data",
          "data": {
            "text/plain": [
              "<IPython.core.display.HTML object>"
            ],
            "text/html": [
              "Find logs at: <code>./wandb/run-20220403_055522-2e7tpkcn/logs</code>"
            ]
          },
          "metadata": {}
        },
        {
          "output_type": "stream",
          "name": "stdout",
          "text": [
            "GNB\n",
            "                precision    recall  f1-score   support\n",
            "\n",
            " Slight Injury       0.85      0.22      0.35      1312\n",
            "Serious Injury       0.12      0.01      0.02       234\n",
            "  Fatal injury       0.02      0.88      0.04        25\n",
            "\n",
            "      accuracy                           0.20      1571\n",
            "     macro avg       0.33      0.37      0.13      1571\n",
            "  weighted avg       0.73      0.20      0.29      1571\n",
            "\n"
          ]
        },
        {
          "output_type": "display_data",
          "data": {
            "text/plain": [
              "<IPython.core.display.HTML object>"
            ],
            "text/html": [
              "Tracking run with wandb version 0.12.11"
            ]
          },
          "metadata": {}
        },
        {
          "output_type": "display_data",
          "data": {
            "text/plain": [
              "<IPython.core.display.HTML object>"
            ],
            "text/html": [
              "Run data is saved locally in <code>/content/wandb/run-20220403_055537-3ufb2obk</code>"
            ]
          },
          "metadata": {}
        },
        {
          "output_type": "display_data",
          "data": {
            "text/plain": [
              "<IPython.core.display.HTML object>"
            ],
            "text/html": [
              "Syncing run <strong><a href=\"https://wandb.ai/sndpkirwai/my-scikit-integration/runs/3ufb2obk\" target=\"_blank\">GNB</a></strong> to <a href=\"https://wandb.ai/sndpkirwai/my-scikit-integration\" target=\"_blank\">Weights & Biases</a> (<a href=\"https://wandb.me/run\" target=\"_blank\">docs</a>)<br/>"
            ]
          },
          "metadata": {}
        },
        {
          "output_type": "stream",
          "name": "stderr",
          "text": [
            "\u001b[34m\u001b[1mwandb\u001b[0m: \n",
            "\u001b[34m\u001b[1mwandb\u001b[0m: Plotting GNB.\n",
            "/usr/local/lib/python3.7/dist-packages/sklearn/base.py:451: UserWarning: X does not have valid feature names, but GaussianNB was fitted with feature names\n",
            "  \"X does not have valid feature names, but\"\n",
            "\u001b[34m\u001b[1mwandb\u001b[0m: \u001b[33mWARNING\u001b[0m could not find any of attributes feature_importances_, feature_log_prob_, coef_ on classifier. Cannot plot feature importances.\n",
            "\u001b[34m\u001b[1mwandb\u001b[0m: Logged feature importances.\n",
            "\u001b[34m\u001b[1mwandb\u001b[0m: Logged confusion matrix.\n",
            "/usr/local/lib/python3.7/dist-packages/sklearn/base.py:451: UserWarning: X does not have valid feature names, but GaussianNB was fitted with feature names\n",
            "  \"X does not have valid feature names, but\"\n",
            "\u001b[34m\u001b[1mwandb\u001b[0m: Logged summary metrics.\n",
            "\u001b[34m\u001b[1mwandb\u001b[0m: Logged class proportions.\n",
            "/usr/local/lib/python3.7/dist-packages/sklearn/base.py:451: UserWarning: X does not have valid feature names, but GaussianNB was fitted with feature names\n",
            "  \"X does not have valid feature names, but\"\n",
            "\u001b[34m\u001b[1mwandb\u001b[0m: \u001b[33mWARNING\u001b[0m This function only supports binary classification at the moment and therefore expects labels to be binary. Skipping calibration curve.\n",
            "\u001b[34m\u001b[1mwandb\u001b[0m: Logged calibration curve.\n",
            "\u001b[34m\u001b[1mwandb\u001b[0m: Logged roc curve.\n",
            "\u001b[34m\u001b[1mwandb\u001b[0m: Logged precision-recall curve.\n"
          ]
        },
        {
          "output_type": "stream",
          "name": "stdout",
          "text": [
            "\n"
          ]
        },
        {
          "output_type": "display_data",
          "data": {
            "text/plain": [
              "<IPython.core.display.HTML object>"
            ],
            "text/html": [
              "Waiting for W&B process to finish... <strong style=\"color:green\">(success).</strong>"
            ]
          },
          "metadata": {}
        },
        {
          "output_type": "display_data",
          "data": {
            "text/plain": [
              "VBox(children=(Label(value='0.037 MB of 0.038 MB uploaded (0.000 MB deduped)\\r'), FloatProgress(value=0.971146…"
            ],
            "application/vnd.jupyter.widget-view+json": {
              "version_major": 2,
              "version_minor": 0,
              "model_id": "d83c2a34d81a42c7bce0c1e79adf9c81"
            }
          },
          "metadata": {}
        },
        {
          "output_type": "display_data",
          "data": {
            "text/plain": [
              "<IPython.core.display.HTML object>"
            ],
            "text/html": [
              "Synced <strong style=\"color:#cdcd00\">GNB</strong>: <a href=\"https://wandb.ai/sndpkirwai/my-scikit-integration/runs/3ufb2obk\" target=\"_blank\">https://wandb.ai/sndpkirwai/my-scikit-integration/runs/3ufb2obk</a><br/>Synced 5 W&B file(s), 5 media file(s), 5 artifact file(s) and 0 other file(s)"
            ]
          },
          "metadata": {}
        },
        {
          "output_type": "display_data",
          "data": {
            "text/plain": [
              "<IPython.core.display.HTML object>"
            ],
            "text/html": [
              "Find logs at: <code>./wandb/run-20220403_055537-3ufb2obk/logs</code>"
            ]
          },
          "metadata": {}
        },
        {
          "output_type": "stream",
          "name": "stderr",
          "text": [
            "/usr/local/lib/python3.7/dist-packages/sklearn/metrics/_classification.py:1318: UndefinedMetricWarning: Precision is ill-defined and being set to 0.0 in labels with no predicted samples. Use `zero_division` parameter to control this behavior.\n",
            "  _warn_prf(average, modifier, msg_start, len(result))\n",
            "/usr/local/lib/python3.7/dist-packages/sklearn/metrics/_classification.py:1318: UndefinedMetricWarning: Precision is ill-defined and being set to 0.0 in labels with no predicted samples. Use `zero_division` parameter to control this behavior.\n",
            "  _warn_prf(average, modifier, msg_start, len(result))\n",
            "/usr/local/lib/python3.7/dist-packages/sklearn/metrics/_classification.py:1318: UndefinedMetricWarning: Precision is ill-defined and being set to 0.0 in labels with no predicted samples. Use `zero_division` parameter to control this behavior.\n",
            "  _warn_prf(average, modifier, msg_start, len(result))\n",
            "/usr/local/lib/python3.7/dist-packages/sklearn/metrics/_classification.py:1318: UndefinedMetricWarning: Precision is ill-defined and being set to 0.0 in labels with no predicted samples. Use `zero_division` parameter to control this behavior.\n",
            "  _warn_prf(average, modifier, msg_start, len(result))\n",
            "/usr/local/lib/python3.7/dist-packages/sklearn/metrics/_classification.py:1318: UndefinedMetricWarning: Precision is ill-defined and being set to 0.0 in labels with no predicted samples. Use `zero_division` parameter to control this behavior.\n",
            "  _warn_prf(average, modifier, msg_start, len(result))\n"
          ]
        },
        {
          "output_type": "stream",
          "name": "stdout",
          "text": [
            "XGB\n",
            "                precision    recall  f1-score   support\n",
            "\n",
            " Slight Injury       0.84      1.00      0.91      1312\n",
            "Serious Injury       0.50      0.00      0.01       234\n",
            "  Fatal injury       0.00      0.00      0.00        25\n",
            "\n",
            "      accuracy                           0.84      1571\n",
            "     macro avg       0.45      0.33      0.31      1571\n",
            "  weighted avg       0.77      0.84      0.76      1571\n",
            "\n"
          ]
        },
        {
          "output_type": "stream",
          "name": "stderr",
          "text": [
            "/usr/local/lib/python3.7/dist-packages/sklearn/metrics/_classification.py:1318: UndefinedMetricWarning: Precision and F-score are ill-defined and being set to 0.0 in labels with no predicted samples. Use `zero_division` parameter to control this behavior.\n",
            "  _warn_prf(average, modifier, msg_start, len(result))\n",
            "/usr/local/lib/python3.7/dist-packages/sklearn/metrics/_classification.py:1318: UndefinedMetricWarning: Precision and F-score are ill-defined and being set to 0.0 in labels with no predicted samples. Use `zero_division` parameter to control this behavior.\n",
            "  _warn_prf(average, modifier, msg_start, len(result))\n",
            "/usr/local/lib/python3.7/dist-packages/sklearn/metrics/_classification.py:1318: UndefinedMetricWarning: Precision and F-score are ill-defined and being set to 0.0 in labels with no predicted samples. Use `zero_division` parameter to control this behavior.\n",
            "  _warn_prf(average, modifier, msg_start, len(result))\n"
          ]
        },
        {
          "output_type": "display_data",
          "data": {
            "text/plain": [
              "<IPython.core.display.HTML object>"
            ],
            "text/html": [
              "Tracking run with wandb version 0.12.11"
            ]
          },
          "metadata": {}
        },
        {
          "output_type": "display_data",
          "data": {
            "text/plain": [
              "<IPython.core.display.HTML object>"
            ],
            "text/html": [
              "Run data is saved locally in <code>/content/wandb/run-20220403_055601-1gtu8i2c</code>"
            ]
          },
          "metadata": {}
        },
        {
          "output_type": "display_data",
          "data": {
            "text/plain": [
              "<IPython.core.display.HTML object>"
            ],
            "text/html": [
              "Syncing run <strong><a href=\"https://wandb.ai/sndpkirwai/my-scikit-integration/runs/1gtu8i2c\" target=\"_blank\">XGB</a></strong> to <a href=\"https://wandb.ai/sndpkirwai/my-scikit-integration\" target=\"_blank\">Weights & Biases</a> (<a href=\"https://wandb.me/run\" target=\"_blank\">docs</a>)<br/>"
            ]
          },
          "metadata": {}
        },
        {
          "output_type": "stream",
          "name": "stderr",
          "text": [
            "\u001b[34m\u001b[1mwandb\u001b[0m: \n",
            "\u001b[34m\u001b[1mwandb\u001b[0m: Plotting XGB.\n",
            "\u001b[34m\u001b[1mwandb\u001b[0m: Logged feature importances.\n",
            "\u001b[34m\u001b[1mwandb\u001b[0m: Logged confusion matrix.\n",
            "/usr/local/lib/python3.7/dist-packages/sklearn/metrics/_classification.py:1318: UndefinedMetricWarning: Precision is ill-defined and being set to 0.0 in labels with no predicted samples. Use `zero_division` parameter to control this behavior.\n",
            "  _warn_prf(average, modifier, msg_start, len(result))\n",
            "\u001b[34m\u001b[1mwandb\u001b[0m: Logged summary metrics.\n",
            "\u001b[34m\u001b[1mwandb\u001b[0m: Logged class proportions.\n",
            "\u001b[34m\u001b[1mwandb\u001b[0m: \u001b[33mWARNING\u001b[0m This function only supports binary classification at the moment and therefore expects labels to be binary. Skipping calibration curve.\n",
            "\u001b[34m\u001b[1mwandb\u001b[0m: Logged calibration curve.\n",
            "\u001b[34m\u001b[1mwandb\u001b[0m: Logged roc curve.\n",
            "\u001b[34m\u001b[1mwandb\u001b[0m: Logged precision-recall curve.\n"
          ]
        },
        {
          "output_type": "stream",
          "name": "stdout",
          "text": [
            "\n"
          ]
        },
        {
          "output_type": "display_data",
          "data": {
            "text/plain": [
              "<IPython.core.display.HTML object>"
            ],
            "text/html": [
              "Waiting for W&B process to finish... <strong style=\"color:green\">(success).</strong>"
            ]
          },
          "metadata": {}
        },
        {
          "output_type": "display_data",
          "data": {
            "text/plain": [
              "VBox(children=(Label(value='0.037 MB of 0.038 MB uploaded (0.000 MB deduped)\\r'), FloatProgress(value=0.970779…"
            ],
            "application/vnd.jupyter.widget-view+json": {
              "version_major": 2,
              "version_minor": 0,
              "model_id": "7aabf13954a74de18b6f936f0d2ae7c6"
            }
          },
          "metadata": {}
        },
        {
          "output_type": "display_data",
          "data": {
            "text/plain": [
              "<IPython.core.display.HTML object>"
            ],
            "text/html": [
              "Synced <strong style=\"color:#cdcd00\">XGB</strong>: <a href=\"https://wandb.ai/sndpkirwai/my-scikit-integration/runs/1gtu8i2c\" target=\"_blank\">https://wandb.ai/sndpkirwai/my-scikit-integration/runs/1gtu8i2c</a><br/>Synced 5 W&B file(s), 6 media file(s), 6 artifact file(s) and 0 other file(s)"
            ]
          },
          "metadata": {}
        },
        {
          "output_type": "display_data",
          "data": {
            "text/plain": [
              "<IPython.core.display.HTML object>"
            ],
            "text/html": [
              "Find logs at: <code>./wandb/run-20220403_055601-1gtu8i2c/logs</code>"
            ]
          },
          "metadata": {}
        }
      ]
    },
    {
      "cell_type": "code",
      "source": [
        ""
      ],
      "metadata": {
        "execution": {
          "iopub.status.busy": "2022-03-04T20:29:20.862150Z",
          "iopub.execute_input": "2022-03-04T20:29:20.862856Z",
          "iopub.status.idle": "2022-03-04T20:30:02.879676Z",
          "shell.execute_reply.started": "2022-03-04T20:29:20.862805Z",
          "shell.execute_reply": "2022-03-04T20:30:02.878789Z"
        },
        "trusted": true,
        "colab": {
          "base_uri": "https://localhost:8080/"
        },
        "id": "FkmF_W_DgBy2",
        "outputId": "277b2acc-40a1-4077-f6e8-5e1569ff6c6e"
      },
      "execution_count": 137,
      "outputs": [
        {
          "output_type": "execute_result",
          "data": {
            "text/plain": [
              "0"
            ]
          },
          "metadata": {},
          "execution_count": 137
        }
      ]
    },
    {
      "cell_type": "code",
      "source": [
        ""
      ],
      "metadata": {
        "execution": {
          "iopub.status.busy": "2022-03-04T20:30:02.881070Z",
          "iopub.execute_input": "2022-03-04T20:30:02.881398Z",
          "iopub.status.idle": "2022-03-04T20:30:03.161991Z",
          "shell.execute_reply.started": "2022-03-04T20:30:02.881363Z",
          "shell.execute_reply": "2022-03-04T20:30:03.161091Z"
        },
        "trusted": true,
        "id": "Zy6dbENSgBy2"
      },
      "execution_count": null,
      "outputs": []
    },
    {
      "cell_type": "code",
      "source": [
        ""
      ],
      "metadata": {
        "id": "IqwZWJ6ogBy2"
      },
      "execution_count": null,
      "outputs": []
    }
  ]
}